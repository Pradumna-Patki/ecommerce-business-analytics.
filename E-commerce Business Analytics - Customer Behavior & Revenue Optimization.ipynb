{
 "cells": [
  {
   "cell_type": "markdown",
   "id": "2f4fcd2a-4ef5-44e9-902d-ac0ce4ded646",
   "metadata": {},
   "source": [
    "# E-commerce Business Analytics: Customer Behavior & Revenue Optimization.\n",
    "# Author: Pradumna Patki."
   ]
  },
  {
   "cell_type": "markdown",
   "id": "a4910682-9e5f-4e6c-bed7-db55474feef3",
   "metadata": {},
   "source": [
    "### Import necessary libraries"
   ]
  },
  {
   "cell_type": "code",
   "execution_count": 1,
   "id": "f2ddf705-d36c-4520-980f-34343163afe8",
   "metadata": {},
   "outputs": [
    {
     "name": "stdout",
     "output_type": "stream",
     "text": [
      "📊 E-commerce Analytics Project Initialized\n",
      "==================================================\n"
     ]
    }
   ],
   "source": [
    "import pandas as pd\n",
    "import numpy as np\n",
    "import matplotlib.pyplot as plt\n",
    "import seaborn as sns\n",
    "import plotly.express as px\n",
    "import plotly.graph_objects as go\n",
    "from plotly.subplots import make_subplots\n",
    "import warnings\n",
    "from datetime import datetime, timedelta\n",
    "from sklearn.cluster import KMeans\n",
    "from sklearn.preprocessing import StandardScaler\n",
    "from sklearn.metrics import silhouette_score\n",
    "import scipy.stats as stats\n",
    "\n",
    "warnings.filterwarnings('ignore')\n",
    "plt.style.use('seaborn-v0_8')\n",
    "sns.set_palette(\"husl\")\n",
    "\n",
    "print(\"📊 E-commerce Analytics Project Initialized\")\n",
    "print(\"=\" * 50)"
   ]
  },
  {
   "cell_type": "markdown",
   "id": "e91de0ad-e693-4b02-b0b6-6d79cba2d931",
   "metadata": {},
   "source": [
    "### 1. DATA GENERATION & SIMULATION"
   ]
  },
  {
   "cell_type": "code",
   "execution_count": 2,
   "id": "e5456618-0666-41d1-ade7-4bb07bdc21ba",
   "metadata": {},
   "outputs": [
    {
     "name": "stdout",
     "output_type": "stream",
     "text": [
      "🔄 Generating realistic e-commerce dataset...\n",
      "✅ Generated dataset with 50000 transactions\n",
      "📅 Date range: 2023-01-01 00:00:00 to 2024-12-31 00:00:00\n",
      "👥 Customers: 5000\n",
      "🛍️ Products: 200\n"
     ]
    }
   ],
   "source": [
    "print(\"🔄 Generating realistic e-commerce dataset...\")\n",
    "\n",
    "# Set random seed for reproducibility\n",
    "np.random.seed(42)\n",
    "\n",
    "# Generate date range (2 years of data)\n",
    "start_date = datetime(2023, 1, 1)\n",
    "end_date = datetime(2024, 12, 31)\n",
    "date_range = pd.date_range(start=start_date, end=end_date, freq='D')\n",
    "\n",
    "# Create synthetic but realistic e-commerce data\n",
    "n_customers = 5000\n",
    "n_products = 200\n",
    "n_transactions = 50000\n",
    "\n",
    "# Customer data\n",
    "customers = pd.DataFrame({\n",
    "    'customer_id': range(1, n_customers + 1),\n",
    "    'registration_date': np.random.choice(date_range[:365], n_customers),\n",
    "    'customer_segment': np.random.choice(['Premium', 'Regular', 'Budget'], n_customers, p=[0.2, 0.5, 0.3]),\n",
    "    'acquisition_channel': np.random.choice(['Organic', 'Paid Search', 'Social Media', 'Email', 'Referral'], \n",
    "                                          n_customers, p=[0.3, 0.25, 0.2, 0.15, 0.1]),\n",
    "    'country': np.random.choice(['USA', 'Canada', 'UK', 'Germany', 'France', 'Australia'], \n",
    "                               n_customers, p=[0.4, 0.15, 0.15, 0.12, 0.10, 0.08])\n",
    "})\n",
    "\n",
    "# Product data\n",
    "products = pd.DataFrame({\n",
    "    'product_id': range(1, n_products + 1),\n",
    "    'category': np.random.choice(['Electronics', 'Clothing', 'Home & Garden', 'Books', 'Sports', 'Beauty'], \n",
    "                                n_products, p=[0.25, 0.20, 0.15, 0.15, 0.15, 0.10]),\n",
    "    'subcategory': np.random.choice(['Smartphone', 'Laptop', 'Headphones', 'Shirt', 'Shoes', 'Furniture', \n",
    "                                   'Fiction', 'Sports Equipment', 'Skincare', 'Home Decor'], n_products),\n",
    "    'price': np.random.lognormal(mean=3.5, sigma=1.2, size=n_products).round(2),\n",
    "    'cost': lambda x: (x * np.random.uniform(0.3, 0.7, len(x))).round(2)\n",
    "})\n",
    "products['cost'] = (products['price'] * np.random.uniform(0.3, 0.7, len(products))).round(2)\n",
    "\n",
    "# Transaction data with realistic patterns\n",
    "transactions = []\n",
    "for i in range(n_transactions):\n",
    "    customer_id = np.random.randint(1, n_customers + 1)\n",
    "    customer_segment = customers[customers['customer_id'] == customer_id]['customer_segment'].iloc[0]\n",
    "    \n",
    "    # Adjust purchase probability based on segment\n",
    "    if customer_segment == 'Premium':\n",
    "        quantity = np.random.choice([1, 2, 3, 4], p=[0.4, 0.3, 0.2, 0.1])\n",
    "        product_price_bias = 1.5  # Premium customers buy more expensive items\n",
    "    elif customer_segment == 'Regular':\n",
    "        quantity = np.random.choice([1, 2, 3], p=[0.6, 0.3, 0.1])\n",
    "        product_price_bias = 1.0\n",
    "    else:  # Budget\n",
    "        quantity = np.random.choice([1, 2], p=[0.8, 0.2])\n",
    "        product_price_bias = 0.6\n",
    "    \n",
    "    # Select products with price bias\n",
    "    product_weights = (products['price'] * product_price_bias) / (products['price'] * product_price_bias).sum()\n",
    "    product_id = np.random.choice(products['product_id'], p=product_weights)\n",
    "    \n",
    "    # Generate realistic transaction date (higher volume in recent months)\n",
    "    if np.random.random() < 0.6:  # 60% of transactions in last 6 months\n",
    "        transaction_date = np.random.choice(date_range[-180:])\n",
    "    else:\n",
    "        transaction_date = np.random.choice(date_range[:-180])\n",
    "    \n",
    "    transactions.append({\n",
    "        'transaction_id': i + 1,\n",
    "        'customer_id': customer_id,\n",
    "        'product_id': product_id,\n",
    "        'transaction_date': transaction_date,\n",
    "        'quantity': quantity,\n",
    "        'discount_percent': np.random.choice([0, 5, 10, 15, 20], p=[0.5, 0.2, 0.15, 0.1, 0.05])\n",
    "    })\n",
    "\n",
    "transactions_df = pd.DataFrame(transactions)\n",
    "\n",
    "# Merge to get complete transaction data\n",
    "df = transactions_df.merge(products[['product_id', 'category', 'price', 'cost']], on='product_id')\n",
    "df = df.merge(customers[['customer_id', 'customer_segment', 'acquisition_channel', 'country', 'registration_date']], \n",
    "              on='customer_id')\n",
    "\n",
    "# Calculate derived metrics\n",
    "df['gross_revenue'] = df['price'] * df['quantity']\n",
    "df['discount_amount'] = df['gross_revenue'] * (df['discount_percent'] / 100)\n",
    "df['net_revenue'] = df['gross_revenue'] - df['discount_amount']\n",
    "df['total_cost'] = df['cost'] * df['quantity']\n",
    "df['profit'] = df['net_revenue'] - df['total_cost']\n",
    "df['profit_margin'] = (df['profit'] / df['net_revenue']) * 100\n",
    "\n",
    "print(f\"✅ Generated dataset with {len(df)} transactions\")\n",
    "print(f\"📅 Date range: {df['transaction_date'].min()} to {df['transaction_date'].max()}\")\n",
    "print(f\"👥 Customers: {df['customer_id'].nunique()}\")\n",
    "print(f\"🛍️ Products: {df['product_id'].nunique()}\")"
   ]
  },
  {
   "cell_type": "markdown",
   "id": "45b301c1-3de5-4553-ab52-0a3a46877b9a",
   "metadata": {},
   "source": [
    "### 2. EXPLORATORY DATA ANALYSIS"
   ]
  },
  {
   "cell_type": "code",
   "execution_count": 3,
   "id": "7ef70e18-d37e-4ac4-8ed0-98b2bf44a8f8",
   "metadata": {},
   "outputs": [
    {
     "name": "stdout",
     "output_type": "stream",
     "text": [
      "\n",
      "📋 Dataset Overview:\n",
      "Dataset Shape: (50000, 19)\n",
      "Memory Usage: 16.45 MB\n",
      "\n",
      "Data Types:\n",
      "transaction_id                  int64\n",
      "customer_id                     int64\n",
      "product_id                      int64\n",
      "transaction_date       datetime64[ns]\n",
      "quantity                        int64\n",
      "discount_percent                int64\n",
      "category                       object\n",
      "price                         float64\n",
      "cost                          float64\n",
      "customer_segment               object\n",
      "acquisition_channel            object\n",
      "country                        object\n",
      "registration_date      datetime64[ns]\n",
      "gross_revenue                 float64\n",
      "discount_amount               float64\n",
      "net_revenue                   float64\n",
      "total_cost                    float64\n",
      "profit                        float64\n",
      "profit_margin                 float64\n",
      "dtype: object\n",
      "\n",
      "📊 Missing Values:\n",
      "transaction_id         0\n",
      "customer_id            0\n",
      "product_id             0\n",
      "transaction_date       0\n",
      "quantity               0\n",
      "discount_percent       0\n",
      "category               0\n",
      "price                  0\n",
      "cost                   0\n",
      "customer_segment       0\n",
      "acquisition_channel    0\n",
      "country                0\n",
      "registration_date      0\n",
      "gross_revenue          0\n",
      "discount_amount        0\n",
      "net_revenue            0\n",
      "total_cost             0\n",
      "profit                 0\n",
      "profit_margin          0\n",
      "dtype: int64\n",
      "\n",
      "📈 Statistical Summary:\n",
      "       transaction_id   customer_id    product_id            transaction_date  \\\n",
      "count    50000.000000  50000.000000  50000.000000                       50000   \n",
      "mean     25000.500000   2495.849520     85.461540  2024-05-09 09:07:43.104000   \n",
      "min          1.000000      1.000000      1.000000         2023-01-01 00:00:00   \n",
      "25%      12500.750000   1253.000000     36.000000         2023-12-13 00:00:00   \n",
      "50%      25000.500000   2497.000000     74.000000         2024-08-03 00:00:00   \n",
      "75%      37500.250000   3731.000000    138.000000         2024-10-18 00:00:00   \n",
      "max      50000.000000   5000.000000    200.000000         2024-12-31 00:00:00   \n",
      "std      14433.901067   1438.088775     60.106076                         NaN   \n",
      "\n",
      "           quantity  discount_percent         price          cost  \\\n",
      "count  50000.000000      50000.000000  50000.000000  50000.000000   \n",
      "mean       1.516380          4.995200    370.478992    202.842951   \n",
      "min        1.000000          0.000000      1.820000      0.830000   \n",
      "25%        1.000000          0.000000     68.890000     36.400000   \n",
      "50%        1.000000          0.000000    146.140000     78.800000   \n",
      "75%        2.000000         10.000000    615.960000    201.730000   \n",
      "max        4.000000         20.000000   1434.410000    730.280000   \n",
      "std        0.749682          6.131536    442.702873    249.815107   \n",
      "\n",
      "                   registration_date  gross_revenue  discount_amount  \\\n",
      "count                          50000   50000.000000     50000.000000   \n",
      "mean   2023-07-01 00:15:26.207999744     564.004748        28.231474   \n",
      "min              2023-01-01 00:00:00       1.820000         0.000000   \n",
      "25%              2023-04-03 00:00:00      84.820000         0.000000   \n",
      "50%              2023-06-27 00:00:00     230.250000         0.000000   \n",
      "75%              2023-10-01 00:00:00     680.780000        19.686000   \n",
      "max              2023-12-31 00:00:00    5737.640000      1147.528000   \n",
      "std                              NaN     805.712213        73.647298   \n",
      "\n",
      "        net_revenue    total_cost        profit  profit_margin  \n",
      "count  50000.000000  50000.000000  50000.000000   50000.000000  \n",
      "mean     535.773274    308.801691    226.971583      44.012558  \n",
      "min        1.547000      0.830000      0.618500      12.566515  \n",
      "25%       81.860000     43.680000     33.280000      32.851759  \n",
      "50%      218.737500    116.640000     88.260000      43.531687  \n",
      "75%      674.856000    383.600000    291.131500      54.558916  \n",
      "max     5737.640000   2921.120000   2816.520000      69.791667  \n",
      "std      767.420754    452.249693    339.792150      13.298834  \n"
     ]
    }
   ],
   "source": [
    "# Basic dataset information\n",
    "print(\"\\n📋 Dataset Overview:\")\n",
    "print(f\"Dataset Shape: {df.shape}\")\n",
    "print(f\"Memory Usage: {df.memory_usage(deep=True).sum() / 1024**2:.2f} MB\")\n",
    "print(\"\\nData Types:\")\n",
    "print(df.dtypes)\n",
    "\n",
    "print(\"\\n📊 Missing Values:\")\n",
    "print(df.isnull().sum())\n",
    "\n",
    "# Statistical Summary\n",
    "print(\"\\n📈 Statistical Summary:\")\n",
    "print(df.describe())"
   ]
  },
  {
   "cell_type": "markdown",
   "id": "f288a673-7e1c-4011-be5c-a5a79bc15187",
   "metadata": {},
   "source": [
    "### 3. KEY PERFORMANCE INDICATORS (KPIs) ANALYSIS"
   ]
  },
  {
   "cell_type": "code",
   "execution_count": 4,
   "id": "e4faaa5f-e612-4a31-9d04-c51493a5ccd9",
   "metadata": {},
   "outputs": [
    {
     "name": "stdout",
     "output_type": "stream",
     "text": [
      "\n",
      "💰 Calculating Key E-commerce KPIs...\n",
      "\n",
      "💵 REVENUE METRICS:\n",
      "Total Revenue: $26,788,663.71\n",
      "Total Profit: $11,348,579.15\n",
      "Overall Profit Margin: 42.36%\n",
      "\n",
      "👥 CUSTOMER METRICS:\n",
      "Total Customers: 5,000\n",
      "Average Order Value (AOV): $535.77\n",
      "Average Customer Lifetime Value: $5357.73\n",
      "\n",
      "🔄 PURCHASE BEHAVIOR:\n",
      "Average Purchase Frequency: 10.00 orders per customer\n",
      "\n",
      "Customer Segmentation by Purchase Frequency:\n",
      "Frequent: 92.9%\n",
      "Regular: 5.9%\n",
      "Occasional: 1.1%\n",
      "One-time: 0.0%\n",
      "\n",
      "🏷️ TOP PERFORMING CATEGORIES:\n",
      "               total_revenue  units_sold  total_profit  total_transactions  \\\n",
      "category                                                                     \n",
      "Electronics      19363267.99       27528    7831584.98               18140   \n",
      "Clothing          2238334.34        9206    1374254.31                6103   \n",
      "Home & Garden     1998893.04       11165     725248.71                7362   \n",
      "Books             1273549.49       11181     579236.56                7359   \n",
      "Sports            1011631.53        9897     387583.78                6537   \n",
      "\n",
      "               avg_selling_price  profit_margin  \n",
      "category                                         \n",
      "Electronics           703.402644      40.445574  \n",
      "Clothing              243.138642      61.396293  \n",
      "Home & Garden         179.032068      36.282517  \n",
      "Books                 113.903004      45.482061  \n",
      "Sports                102.215978      38.312742  \n",
      "\n",
      "📅 MONTHLY PERFORMANCE (Last 6 months):\n",
      "            monthly_revenue  unique_customers  total_transactions  \\\n",
      "year_month                                                          \n",
      "2024-07          2447414.93              3040                4678   \n",
      "2024-08          2710790.03              3202                5138   \n",
      "2024-09          2492319.07              3089                4939   \n",
      "2024-10          2782817.33              3222                5202   \n",
      "2024-11          2726109.29              3126                5014   \n",
      "2024-12          2812077.62              3190                5151   \n",
      "\n",
      "            monthly_profit  revenue_growth  \n",
      "year_month                                  \n",
      "2024-07         1034899.50      307.166914  \n",
      "2024-08         1148457.21       10.761359  \n",
      "2024-09         1052835.74       -8.059310  \n",
      "2024-10         1184391.08       11.655741  \n",
      "2024-11         1155511.81       -2.037792  \n",
      "2024-12         1198576.34        3.153517  \n"
     ]
    }
   ],
   "source": [
    "print(\"\\n💰 Calculating Key E-commerce KPIs...\")\n",
    "\n",
    "# Convert transaction_date to datetime for time-based analysis\n",
    "df['transaction_date'] = pd.to_datetime(df['transaction_date'])\n",
    "df['year_month'] = df['transaction_date'].dt.to_period('M')\n",
    "\n",
    "# 1. REVENUE METRICS\n",
    "total_revenue = df['net_revenue'].sum()\n",
    "total_profit = df['profit'].sum()\n",
    "overall_profit_margin = (total_profit / total_revenue) * 100\n",
    "\n",
    "print(f\"\\n💵 REVENUE METRICS:\")\n",
    "print(f\"Total Revenue: ${total_revenue:,.2f}\")\n",
    "print(f\"Total Profit: ${total_profit:,.2f}\")\n",
    "print(f\"Overall Profit Margin: {overall_profit_margin:.2f}%\")\n",
    "\n",
    "# 2. CUSTOMER METRICS\n",
    "total_customers = df['customer_id'].nunique()\n",
    "avg_order_value = df.groupby('transaction_id')['net_revenue'].first().mean()\n",
    "\n",
    "# Customer Lifetime Value (CLV) calculation\n",
    "customer_metrics = df.groupby('customer_id').agg({\n",
    "    'net_revenue': ['sum', 'count', 'mean'],\n",
    "    'transaction_date': ['min', 'max'],\n",
    "    'profit': 'sum'\n",
    "}).round(2)\n",
    "\n",
    "customer_metrics.columns = ['total_revenue', 'total_orders', 'avg_order_value', 'first_purchase', 'last_purchase', 'total_profit']\n",
    "\n",
    "# Calculate customer lifespan in days\n",
    "customer_metrics['customer_lifespan'] = (customer_metrics['last_purchase'] - customer_metrics['first_purchase']).dt.days\n",
    "customer_metrics['customer_lifespan'] = customer_metrics['customer_lifespan'].fillna(0)\n",
    "\n",
    "# Average Customer Lifetime Value\n",
    "avg_clv = customer_metrics['total_revenue'].mean()\n",
    "\n",
    "print(f\"\\n👥 CUSTOMER METRICS:\")\n",
    "print(f\"Total Customers: {total_customers:,}\")\n",
    "print(f\"Average Order Value (AOV): ${avg_order_value:.2f}\")\n",
    "print(f\"Average Customer Lifetime Value: ${avg_clv:.2f}\")\n",
    "\n",
    "# 3. PURCHASE FREQUENCY & RETENTION\n",
    "purchase_frequency = df.groupby('customer_id')['transaction_id'].count()\n",
    "avg_purchase_frequency = purchase_frequency.mean()\n",
    "\n",
    "# Customer segmentation by purchase frequency\n",
    "customer_segments = pd.cut(purchase_frequency, bins=[0, 1, 3, 5, float('inf')], \n",
    "                          labels=['One-time', 'Occasional', 'Regular', 'Frequent'])\n",
    "segment_distribution = customer_segments.value_counts(normalize=True) * 100\n",
    "\n",
    "print(f\"\\n🔄 PURCHASE BEHAVIOR:\")\n",
    "print(f\"Average Purchase Frequency: {avg_purchase_frequency:.2f} orders per customer\")\n",
    "print(\"\\nCustomer Segmentation by Purchase Frequency:\")\n",
    "for segment, percentage in segment_distribution.items():\n",
    "    print(f\"{segment}: {percentage:.1f}%\")\n",
    "\n",
    "# 4. PRODUCT PERFORMANCE\n",
    "product_performance = df.groupby(['category']).agg({\n",
    "    'net_revenue': 'sum',\n",
    "    'quantity': 'sum',\n",
    "    'profit': 'sum',\n",
    "    'transaction_id': 'count'\n",
    "}).round(2)\n",
    "\n",
    "product_performance.columns = ['total_revenue', 'units_sold', 'total_profit', 'total_transactions']\n",
    "product_performance['avg_selling_price'] = product_performance['total_revenue'] / product_performance['units_sold']\n",
    "product_performance['profit_margin'] = (product_performance['total_profit'] / product_performance['total_revenue']) * 100\n",
    "\n",
    "print(f\"\\n🏷️ TOP PERFORMING CATEGORIES:\")\n",
    "top_categories = product_performance.sort_values('total_revenue', ascending=False)\n",
    "print(top_categories.head())\n",
    "\n",
    "# 5. TIME-BASED ANALYSIS\n",
    "monthly_metrics = df.groupby('year_month').agg({\n",
    "    'net_revenue': 'sum',\n",
    "    'customer_id': 'nunique',\n",
    "    'transaction_id': 'count',\n",
    "    'profit': 'sum'\n",
    "}).round(2)\n",
    "\n",
    "monthly_metrics.columns = ['monthly_revenue', 'unique_customers', 'total_transactions', 'monthly_profit']\n",
    "monthly_metrics['revenue_growth'] = monthly_metrics['monthly_revenue'].pct_change() * 100\n",
    "\n",
    "print(f\"\\n📅 MONTHLY PERFORMANCE (Last 6 months):\")\n",
    "print(monthly_metrics.tail(6))"
   ]
  },
  {
   "cell_type": "markdown",
   "id": "9a6ac666-4f85-4cff-87ab-e7efd308b527",
   "metadata": {},
   "source": [
    "### 4. ADVANCED ANALYTICS & INSIGHTS"
   ]
  },
  {
   "cell_type": "code",
   "execution_count": 5,
   "id": "672cffce-8e34-4d5e-a9c3-f18adcc624fc",
   "metadata": {},
   "outputs": [
    {
     "name": "stdout",
     "output_type": "stream",
     "text": [
      "✅ Cohort analysis completed\n",
      "✅ RFM analysis completed\n"
     ]
    }
   ],
   "source": [
    "# Customer Cohort Analysis\n",
    "def cohort_analysis(df):\n",
    "    df['order_period'] = df['transaction_date'].dt.to_period('M')\n",
    "    \n",
    "    # Get customer's first purchase month\n",
    "    df['cohort_group'] = df.groupby('customer_id')['transaction_date'].transform('min').dt.to_period('M')\n",
    "    \n",
    "    # Calculate period number\n",
    "    def get_period_number(df):\n",
    "        return (df['order_period'] - df['cohort_group']).apply(attrgetter('n'))\n",
    "    \n",
    "    from operator import attrgetter\n",
    "    df['period_number'] = get_period_number(df)\n",
    "    \n",
    "    # Create cohort table\n",
    "    cohort_data = df.groupby(['cohort_group', 'period_number'])['customer_id'].nunique().reset_index()\n",
    "    cohort_counts = cohort_data.pivot(index='cohort_group', columns='period_number', values='customer_id')\n",
    "    \n",
    "    # Calculate cohort sizes\n",
    "    cohort_sizes = df.groupby('cohort_group')['customer_id'].nunique()\n",
    "    \n",
    "    # Calculate retention rates\n",
    "    retention_table = cohort_counts.divide(cohort_sizes, axis=0)\n",
    "    \n",
    "    return retention_table\n",
    "\n",
    "retention_rates = cohort_analysis(df.copy())\n",
    "print(\"✅ Cohort analysis completed\")\n",
    "\n",
    "# RFM Analysis\n",
    "def rfm_analysis(df):\n",
    "    current_date = df['transaction_date'].max()\n",
    "    \n",
    "    rfm = df.groupby('customer_id').agg({\n",
    "        'transaction_date': lambda x: (current_date - x.max()).days,\n",
    "        'transaction_id': 'count',\n",
    "        'net_revenue': 'sum'\n",
    "    }).round(2)\n",
    "    \n",
    "    rfm.columns = ['recency', 'frequency', 'monetary']\n",
    "    \n",
    "    # Create RFM segments\n",
    "    rfm['r_score'] = pd.qcut(rfm['recency'], 5, labels=[5, 4, 3, 2, 1])\n",
    "    rfm['f_score'] = pd.qcut(rfm['frequency'].rank(method='first'), 5, labels=[1, 2, 3, 4, 5])\n",
    "    rfm['m_score'] = pd.qcut(rfm['monetary'], 5, labels=[1, 2, 3, 4, 5])\n",
    "    \n",
    "    rfm['rfm_score'] = rfm['r_score'].astype(str) + rfm['f_score'].astype(str) + rfm['m_score'].astype(str)\n",
    "    \n",
    "    # Define customer segments\n",
    "    def segment_customers(row):\n",
    "        if row['rfm_score'] in ['555', '554', '544', '545', '454', '455', '445']:\n",
    "            return 'Champions'\n",
    "        elif row['rfm_score'] in ['543', '444', '435', '355', '354', '345', '344', '335']:\n",
    "            return 'Loyal Customers'\n",
    "        elif row['rfm_score'] in ['512', '511', '422', '421', '412', '411', '311']:\n",
    "            return 'Potential Loyalists'\n",
    "        elif row['rfm_score'] in ['533', '532', '531', '523', '522', '521', '515', '514', '513', '425', '424', '413', '414', '415', '315', '314', '313']:\n",
    "            return 'New Customers'\n",
    "        elif row['rfm_score'] in ['155', '154', '144', '214', '215', '115', '114']:\n",
    "            return 'At Risk'\n",
    "        elif row['rfm_score'] in ['155', '254', '245']:\n",
    "            return \"Can't Lose Them\"\n",
    "        else:\n",
    "            return 'Others'\n",
    "    \n",
    "    rfm['customer_segment'] = rfm.apply(segment_customers, axis=1)\n",
    "    \n",
    "    return rfm\n",
    "\n",
    "rfm_data = rfm_analysis(df.copy())\n",
    "rfm_summary = rfm_data['customer_segment'].value_counts()\n",
    "print(\"✅ RFM analysis completed\")"
   ]
  },
  {
   "cell_type": "markdown",
   "id": "40b3e82f-68b2-400b-b441-041ac0fd3f0e",
   "metadata": {},
   "source": [
    "### 5. VISUALIZATIONS"
   ]
  },
  {
   "cell_type": "code",
   "execution_count": 6,
   "id": "8eedbe40-7b1b-4d6f-8bef-a3b37e5813b7",
   "metadata": {},
   "outputs": [
    {
     "data": {
      "image/png": "[encoded data removed]",
      "text/plain": [
       "<Figure size 2000x1500 with 4 Axes>"
      ]
     },
     "metadata": {},
     "output_type": "display_data"
    },
    {
     "data": {
      "application/vnd.plotly.v1+json": {
       "config": {
        "plotlyServerURL": "https://plot.ly"
       },
       "data": [
        {
         "mode": "lines",
         "name": "Daily Revenue",
         "type": "scatter",
         "x": [
          "2023-01-01T00:00:00.000000000",
          "2023-01-02T00:00:00.000000000",
          "2023-01-03T00:00:00.000000000",
          "2023-01-04T00:00:00.000000000",
          "2023-01-05T00:00:00.000000000",
          "2023-01-06T00:00:00.000000000",
          "2023-01-07T00:00:00.000000000",
          "2023-01-08T00:00:00.000000000",
          "2023-01-09T00:00:00.000000000",
          "2023-01-10T00:00:00.000000000",
          "2023-01-11T00:00:00.000000000",
          "2023-01-12T00:00:00.000000000",
          "2023-01-13T00:00:00.000000000",
          "2023-01-14T00:00:00.000000000",
          "2023-01-15T00:00:00.000000000",
          "2023-01-16T00:00:00.000000000",
          "2023-01-17T00:00:00.000000000",
          "2023-01-18T00:00:00.000000000",
          "2023-01-19T00:00:00.000000000",
          "2023-01-20T00:00:00.000000000",
          "2023-01-21T00:00:00.000000000",
          "2023-01-22T00:00:00.000000000",
          "2023-01-23T00:00:00.000000000",
          "2023-01-24T00:00:00.000000000",
          "2023-01-25T00:00:00.000000000",
          "2023-01-26T00:00:00.000000000",
          "2023-01-27T00:00:00.000000000",
          "2023-01-28T00:00:00.000000000",
          "2023-01-29T00:00:00.000000000",
          "2023-01-30T00:00:00.000000000",
          "2023-01-31T00:00:00.000000000",
          "2023-02-01T00:00:00.000000000",
          "2023-02-02T00:00:00.000000000",
          "2023-02-03T00:00:00.000000000",
          "2023-02-04T00:00:00.000000000",
          "2023-02-05T00:00:00.000000000",
          "2023-02-06T00:00:00.000000000",
          "2023-02-07T00:00:00.000000000",
          "2023-02-08T00:00:00.000000000",
          "2023-02-09T00:00:00.000000000",
          "2023-02-10T00:00:00.000000000",
          "2023-02-11T00:00:00.000000000",
          "2023-02-12T00:00:00.000000000",
          "2023-02-13T00:00:00.000000000",
          "2023-02-14T00:00:00.000000000",
          "2023-02-15T00:00:00.000000000",
          "2023-02-16T00:00:00.000000000",
          "2023-02-17T00:00:00.000000000",
          "2023-02-18T00:00:00.000000000",
          "2023-02-19T00:00:00.000000000",
          "2023-02-20T00:00:00.000000000",
          "2023-02-21T00:00:00.000000000",
          "2023-02-22T00:00:00.000000000",
          "2023-02-23T00:00:00.000000000",
          "2023-02-24T00:00:00.000000000",
          "2023-02-25T00:00:00.000000000",
          "2023-02-26T00:00:00.000000000",
          "2023-02-27T00:00:00.000000000",
          "2023-02-28T00:00:00.000000000",
          "2023-03-01T00:00:00.000000000",
          "2023-03-02T00:00:00.000000000",
          "2023-03-03T00:00:00.000000000",
          "2023-03-04T00:00:00.000000000",
          "2023-03-05T00:00:00.000000000",
          "2023-03-06T00:00:00.000000000",
          "2023-03-07T00:00:00.000000000",
          "2023-03-08T00:00:00.000000000",
          "2023-03-09T00:00:00.000000000",
          "2023-03-10T00:00:00.000000000",
          "2023-03-11T00:00:00.000000000",
          "2023-03-12T00:00:00.000000000",
          "2023-03-13T00:00:00.000000000",
          "2023-03-14T00:00:00.000000000",
          "2023-03-15T00:00:00.000000000",
          "2023-03-16T00:00:00.000000000",
          "2023-03-17T00:00:00.000000000",
          "2023-03-18T00:00:00.000000000",
          "2023-03-19T00:00:00.000000000",
          "2023-03-20T00:00:00.000000000",
          "2023-03-21T00:00:00.000000000",
          "2023-03-22T00:00:00.000000000",
          "2023-03-23T00:00:00.000000000",
          "2023-03-24T00:00:00.000000000",
          "2023-03-25T00:00:00.000000000",
          "2023-03-26T00:00:00.000000000",
          "2023-03-27T00:00:00.000000000",
          "2023-03-28T00:00:00.000000000",
          "2023-03-29T00:00:00.000000000",
          "2023-03-30T00:00:00.000000000",
          "2023-03-31T00:00:00.000000000",
          "2023-04-01T00:00:00.000000000",
          "2023-04-02T00:00:00.000000000",
          "2023-04-03T00:00:00.000000000",
          "2023-04-04T00:00:00.000000000",
          "2023-04-05T00:00:00.000000000",
          "2023-04-06T00:00:00.000000000",
          "2023-04-07T00:00:00.000000000",
          "2023-04-08T00:00:00.000000000",
          "2023-04-09T00:00:00.000000000",
          "2023-04-10T00:00:00.000000000",
          "2023-04-11T00:00:00.000000000",
          "2023-04-12T00:00:00.000000000",
          "2023-04-13T00:00:00.000000000",
          "2023-04-14T00:00:00.000000000",
          "2023-04-15T00:00:00.000000000",
          "2023-04-16T00:00:00.000000000",
          "2023-04-17T00:00:00.000000000",
          "2023-04-18T00:00:00.000000000",
          "2023-04-19T00:00:00.000000000",
          "2023-04-20T00:00:00.000000000",
          "2023-04-21T00:00:00.000000000",
          "2023-04-22T00:00:00.000000000",
          "2023-04-23T00:00:00.000000000",
          "2023-04-24T00:00:00.000000000",
          "2023-04-25T00:00:00.000000000",
          "2023-04-26T00:00:00.000000000",
          "2023-04-27T00:00:00.000000000",
          "2023-04-28T00:00:00.000000000",
          "2023-04-29T00:00:00.000000000",
          "2023-04-30T00:00:00.000000000",
          "2023-05-01T00:00:00.000000000",
          "2023-05-02T00:00:00.000000000",
          "2023-05-03T00:00:00.000000000",
          "2023-05-04T00:00:00.000000000",
          "2023-05-05T00:00:00.000000000",
          "2023-05-06T00:00:00.000000000",
          "2023-05-07T00:00:00.000000000",
          "2023-05-08T00:00:00.000000000",
          "2023-05-09T00:00:00.000000000",
          "2023-05-10T00:00:00.000000000",
          "2023-05-11T00:00:00.000000000",
          "2023-05-12T00:00:00.000000000",
          "2023-05-13T00:00:00.000000000",
          "2023-05-14T00:00:00.000000000",
          "2023-05-15T00:00:00.000000000",
          "2023-05-16T00:00:00.000000000",
          "2023-05-17T00:00:00.000000000",
          "2023-05-18T00:00:00.000000000",
          "2023-05-19T00:00:00.000000000",
          "2023-05-20T00:00:00.000000000",
          "2023-05-21T00:00:00.000000000",
          "2023-05-22T00:00:00.000000000",
          "2023-05-23T00:00:00.000000000",
          "2023-05-24T00:00:00.000000000",
          "2023-05-25T00:00:00.000000000",
          "2023-05-26T00:00:00.000000000",
          "2023-05-27T00:00:00.000000000",
          "2023-05-28T00:00:00.000000000",
          "2023-05-29T00:00:00.000000000",
          "2023-05-30T00:00:00.000000000",
          "2023-05-31T00:00:00.000000000",
          "2023-06-01T00:00:00.000000000",
          "2023-06-02T00:00:00.000000000",
          "2023-06-03T00:00:00.000000000",
          "2023-06-04T00:00:00.000000000",
          "2023-06-05T00:00:00.000000000",
          "2023-06-06T00:00:00.000000000",
          "2023-06-07T00:00:00.000000000",
          "2023-06-08T00:00:00.000000000",
          "2023-06-09T00:00:00.000000000",
          "2023-06-10T00:00:00.000000000",
          "2023-06-11T00:00:00.000000000",
          "2023-06-12T00:00:00.000000000",
          "2023-06-13T00:00:00.000000000",
          "2023-06-14T00:00:00.000000000",
          "2023-06-15T00:00:00.000000000",
          "2023-06-16T00:00:00.000000000",
          "2023-06-17T00:00:00.000000000",
          "2023-06-18T00:00:00.000000000",
          "2023-06-19T00:00:00.000000000",
          "2023-06-20T00:00:00.000000000",
          "2023-06-21T00:00:00.000000000",
          "2023-06-22T00:00:00.000000000",
          "2023-06-23T00:00:00.000000000",
          "2023-06-24T00:00:00.000000000",
          "2023-06-25T00:00:00.000000000",
          "2023-06-26T00:00:00.000000000",
          "2023-06-27T00:00:00.000000000",
          "2023-06-28T00:00:00.000000000",
          "2023-06-29T00:00:00.000000000",
          "2023-06-30T00:00:00.000000000",
          "2023-07-01T00:00:00.000000000",
          "2023-07-02T00:00:00.000000000",
          "2023-07-03T00:00:00.000000000",
          "2023-07-04T00:00:00.000000000",
          "2023-07-05T00:00:00.000000000",
          "2023-07-06T00:00:00.000000000",
          "2023-07-07T00:00:00.000000000",
          "2023-07-08T00:00:00.000000000",
          "2023-07-09T00:00:00.000000000",
          "2023-07-10T00:00:00.000000000",
          "2023-07-11T00:00:00.000000000",
          "2023-07-12T00:00:00.000000000",
          "2023-07-13T00:00:00.000000000",
          "2023-07-14T00:00:00.000000000",
          "2023-07-15T00:00:00.000000000",
          "2023-07-16T00:00:00.000000000",
          "2023-07-17T00:00:00.000000000",
          "2023-07-18T00:00:00.000000000",
          "2023-07-19T00:00:00.000000000",
          "2023-07-20T00:00:00.000000000",
          "2023-07-21T00:00:00.000000000",
          "2023-07-22T00:00:00.000000000",
          "2023-07-23T00:00:00.000000000",
          "2023-07-24T00:00:00.000000000",
          "2023-07-25T00:00:00.000000000",
          "2023-07-26T00:00:00.000000000",
          "2023-07-27T00:00:00.000000000",
          "2023-07-28T00:00:00.000000000",
          "2023-07-29T00:00:00.000000000",
          "2023-07-30T00:00:00.000000000",
          "2023-07-31T00:00:00.000000000",
          "2023-08-01T00:00:00.000000000",
          "2023-08-02T00:00:00.000000000",
          "2023-08-03T00:00:00.000000000",
          "2023-08-04T00:00:00.000000000",
          "2023-08-05T00:00:00.000000000",
          "2023-08-06T00:00:00.000000000",
          "2023-08-07T00:00:00.000000000",
          "2023-08-08T00:00:00.000000000",
          "2023-08-09T00:00:00.000000000",
          "2023-08-10T00:00:00.000000000",
          "2023-08-11T00:00:00.000000000",
          "2023-08-12T00:00:00.000000000",
          "2023-08-13T00:00:00.000000000",
          "2023-08-14T00:00:00.000000000",
          "2023-08-15T00:00:00.000000000",
          "2023-08-16T00:00:00.000000000",
          "2023-08-17T00:00:00.000000000",
          "2023-08-18T00:00:00.000000000",
          "2023-08-19T00:00:00.000000000",
          "2023-08-20T00:00:00.000000000",
          "2023-08-21T00:00:00.000000000",
          "2023-08-22T00:00:00.000000000",
          "2023-08-23T00:00:00.000000000",
          "2023-08-24T00:00:00.000000000",
          "2023-08-25T00:00:00.000000000",
          "2023-08-26T00:00:00.000000000",
          "2023-08-27T00:00:00.000000000",
          "2023-08-28T00:00:00.000000000",
          "2023-08-29T00:00:00.000000000",
          "2023-08-30T00:00:00.000000000",
          "2023-08-31T00:00:00.000000000",
          "2023-09-01T00:00:00.000000000",
          "2023-09-02T00:00:00.000000000",
          "2023-09-03T00:00:00.000000000",
          "2023-09-04T00:00:00.000000000",
          "2023-09-05T00:00:00.000000000",
          "2023-09-06T00:00:00.000000000",
          "2023-09-07T00:00:00.000000000",
          "2023-09-08T00:00:00.000000000",
          "2023-09-09T00:00:00.000000000",
          "2023-09-10T00:00:00.000000000",
          "2023-09-11T00:00:00.000000000",
          "2023-09-12T00:00:00.000000000",
          "2023-09-13T00:00:00.000000000",
          "2023-09-14T00:00:00.000000000",
          "2023-09-15T00:00:00.000000000",
          "2023-09-16T00:00:00.000000000",
          "2023-09-17T00:00:00.000000000",
          "2023-09-18T00:00:00.000000000",
          "2023-09-19T00:00:00.000000000",
          "2023-09-20T00:00:00.000000000",
          "2023-09-21T00:00:00.000000000",
          "2023-09-22T00:00:00.000000000",
          "2023-09-23T00:00:00.000000000",
          "2023-09-24T00:00:00.000000000",
          "2023-09-25T00:00:00.000000000",
          "2023-09-26T00:00:00.000000000",
          "2023-09-27T00:00:00.000000000",
          "2023-09-28T00:00:00.000000000",
          "2023-09-29T00:00:00.000000000",
          "2023-09-30T00:00:00.000000000",
          "2023-10-01T00:00:00.000000000",
          "2023-10-02T00:00:00.000000000",
          "2023-10-03T00:00:00.000000000",
          "2023-10-04T00:00:00.000000000",
          "2023-10-05T00:00:00.000000000",
          "2023-10-06T00:00:00.000000000",
          "2023-10-07T00:00:00.000000000",
          "2023-10-08T00:00:00.000000000",
          "2023-10-09T00:00:00.000000000",
          "2023-10-10T00:00:00.000000000",
          "2023-10-11T00:00:00.000000000",
          "2023-10-12T00:00:00.000000000",
          "2023-10-13T00:00:00.000000000",
          "2023-10-14T00:00:00.000000000",
          "2023-10-15T00:00:00.000000000",
          "2023-10-16T00:00:00.000000000",
          "2023-10-17T00:00:00.000000000",
          "2023-10-18T00:00:00.000000000",
          "2023-10-19T00:00:00.000000000",
          "2023-10-20T00:00:00.000000000",
          "2023-10-21T00:00:00.000000000",
          "2023-10-22T00:00:00.000000000",
          "2023-10-23T00:00:00.000000000",
          "2023-10-24T00:00:00.000000000",
          "2023-10-25T00:00:00.000000000",
          "2023-10-26T00:00:00.000000000",
          "2023-10-27T00:00:00.000000000",
          "2023-10-28T00:00:00.000000000",
          "2023-10-29T00:00:00.000000000",
          "2023-10-30T00:00:00.000000000",
          "2023-10-31T00:00:00.000000000",
          "2023-11-01T00:00:00.000000000",
          "2023-11-02T00:00:00.000000000",
          "2023-11-03T00:00:00.000000000",
          "2023-11-04T00:00:00.000000000",
          "2023-11-05T00:00:00.000000000",
          "2023-11-06T00:00:00.000000000",
          "2023-11-07T00:00:00.000000000",
          "2023-11-08T00:00:00.000000000",
          "2023-11-09T00:00:00.000000000",
          "2023-11-10T00:00:00.000000000",
          "2023-11-11T00:00:00.000000000",
          "2023-11-12T00:00:00.000000000",
          "2023-11-13T00:00:00.000000000",
          "2023-11-14T00:00:00.000000000",
          "2023-11-15T00:00:00.000000000",
          "2023-11-16T00:00:00.000000000",
          "2023-11-17T00:00:00.000000000",
          "2023-11-18T00:00:00.000000000",
          "2023-11-19T00:00:00.000000000",
          "2023-11-20T00:00:00.000000000",
          "2023-11-21T00:00:00.000000000",
          "2023-11-22T00:00:00.000000000",
          "2023-11-23T00:00:00.000000000",
          "2023-11-24T00:00:00.000000000",
          "2023-11-25T00:00:00.000000000",
          "2023-11-26T00:00:00.000000000",
          "2023-11-27T00:00:00.000000000",
          "2023-11-28T00:00:00.000000000",
          "2023-11-29T00:00:00.000000000",
          "2023-11-30T00:00:00.000000000",
          "2023-12-01T00:00:00.000000000",
          "2023-12-02T00:00:00.000000000",
          "2023-12-03T00:00:00.000000000",
          "2023-12-04T00:00:00.000000000",
          "2023-12-05T00:00:00.000000000",
          "2023-12-06T00:00:00.000000000",
          "2023-12-07T00:00:00.000000000",
          "2023-12-08T00:00:00.000000000",
          "2023-12-09T00:00:00.000000000",
          "2023-12-10T00:00:00.000000000",
          "2023-12-11T00:00:00.000000000",
          "2023-12-12T00:00:00.000000000",
          "2023-12-13T00:00:00.000000000",
          "2023-12-14T00:00:00.000000000",
          "2023-12-15T00:00:00.000000000",
          "2023-12-16T00:00:00.000000000",
          "2023-12-17T00:00:00.000000000",
          "2023-12-18T00:00:00.000000000",
          "2023-12-19T00:00:00.000000000",
          "2023-12-20T00:00:00.000000000",
          "2023-12-21T00:00:00.000000000",
          "2023-12-22T00:00:00.000000000",
          "2023-12-23T00:00:00.000000000",
          "2023-12-24T00:00:00.000000000",
          "2023-12-25T00:00:00.000000000",
          "2023-12-26T00:00:00.000000000",
          "2023-12-27T00:00:00.000000000",
          "2023-12-28T00:00:00.000000000",
          "2023-12-29T00:00:00.000000000",
          "2023-12-30T00:00:00.000000000",
          "2023-12-31T00:00:00.000000000",
          "2024-01-01T00:00:00.000000000",
          "2024-01-02T00:00:00.000000000",
          "2024-01-03T00:00:00.000000000",
          "2024-01-04T00:00:00.000000000",
          "2024-01-05T00:00:00.000000000",
          "2024-01-06T00:00:00.000000000",
          "2024-01-07T00:00:00.000000000",
          "2024-01-08T00:00:00.000000000",
          "2024-01-09T00:00:00.000000000",
          "2024-01-10T00:00:00.000000000",
          "2024-01-11T00:00:00.000000000",
          "2024-01-12T00:00:00.000000000",
          "2024-01-13T00:00:00.000000000",
          "2024-01-14T00:00:00.000000000",
          "2024-01-15T00:00:00.000000000",
          "2024-01-16T00:00:00.000000000",
          "2024-01-17T00:00:00.000000000",
          "2024-01-18T00:00:00.000000000",
          "2024-01-19T00:00:00.000000000",
          "2024-01-20T00:00:00.000000000",
          "2024-01-21T00:00:00.000000000",
          "2024-01-22T00:00:00.000000000",
          "2024-01-23T00:00:00.000000000",
          "2024-01-24T00:00:00.000000000",
          "2024-01-25T00:00:00.000000000",
          "2024-01-26T00:00:00.000000000",
          "2024-01-27T00:00:00.000000000",
          "2024-01-28T00:00:00.000000000",
          "2024-01-29T00:00:00.000000000",
          "2024-01-30T00:00:00.000000000",
          "2024-01-31T00:00:00.000000000",
          "2024-02-01T00:00:00.000000000",
          "2024-02-02T00:00:00.000000000",
          "2024-02-03T00:00:00.000000000",
          "2024-02-04T00:00:00.000000000",
          "2024-02-05T00:00:00.000000000",
          "2024-02-06T00:00:00.000000000",
          "2024-02-07T00:00:00.000000000",
          "2024-02-08T00:00:00.000000000",
          "2024-02-09T00:00:00.000000000",
          "2024-02-10T00:00:00.000000000",
          "2024-02-11T00:00:00.000000000",
          "2024-02-12T00:00:00.000000000",
          "2024-02-13T00:00:00.000000000",
          "2024-02-14T00:00:00.000000000",
          "2024-02-15T00:00:00.000000000",
          "2024-02-16T00:00:00.000000000",
          "2024-02-17T00:00:00.000000000",
          "2024-02-18T00:00:00.000000000",
          "2024-02-19T00:00:00.000000000",
          "2024-02-20T00:00:00.000000000",
          "2024-02-21T00:00:00.000000000",
          "2024-02-22T00:00:00.000000000",
          "2024-02-23T00:00:00.000000000",
          "2024-02-24T00:00:00.000000000",
          "2024-02-25T00:00:00.000000000",
          "2024-02-26T00:00:00.000000000",
          "2024-02-27T00:00:00.000000000",
          "2024-02-28T00:00:00.000000000",
          "2024-02-29T00:00:00.000000000",
          "2024-03-01T00:00:00.000000000",
          "2024-03-02T00:00:00.000000000",
          "2024-03-03T00:00:00.000000000",
          "2024-03-04T00:00:00.000000000",
          "2024-03-05T00:00:00.000000000",
          "2024-03-06T00:00:00.000000000",
          "2024-03-07T00:00:00.000000000",
          "2024-03-08T00:00:00.000000000",
          "2024-03-09T00:00:00.000000000",
          "2024-03-10T00:00:00.000000000",
          "2024-03-11T00:00:00.000000000",
          "2024-03-12T00:00:00.000000000",
          "2024-03-13T00:00:00.000000000",
          "2024-03-14T00:00:00.000000000",
          "2024-03-15T00:00:00.000000000",
          "2024-03-16T00:00:00.000000000",
          "2024-03-17T00:00:00.000000000",
          "2024-03-18T00:00:00.000000000",
          "2024-03-19T00:00:00.000000000",
          "2024-03-20T00:00:00.000000000",
          "2024-03-21T00:00:00.000000000",
          "2024-03-22T00:00:00.000000000",
          "2024-03-23T00:00:00.000000000",
          "2024-03-24T00:00:00.000000000",
          "2024-03-25T00:00:00.000000000",
          "2024-03-26T00:00:00.000000000",
          "2024-03-27T00:00:00.000000000",
          "2024-03-28T00:00:00.000000000",
          "2024-03-29T00:00:00.000000000",
          "2024-03-30T00:00:00.000000000",
          "2024-03-31T00:00:00.000000000",
          "2024-04-01T00:00:00.000000000",
          "2024-04-02T00:00:00.000000000",
          "2024-04-03T00:00:00.000000000",
          "2024-04-04T00:00:00.000000000",
          "2024-04-05T00:00:00.000000000",
          "2024-04-06T00:00:00.000000000",
          "2024-04-07T00:00:00.000000000",
          "2024-04-08T00:00:00.000000000",
          "2024-04-09T00:00:00.000000000",
          "2024-04-10T00:00:00.000000000",
          "2024-04-11T00:00:00.000000000",
          "2024-04-12T00:00:00.000000000",
          "2024-04-13T00:00:00.000000000",
          "2024-04-14T00:00:00.000000000",
          "2024-04-15T00:00:00.000000000",
          "2024-04-16T00:00:00.000000000",
          "2024-04-17T00:00:00.000000000",
          "2024-04-18T00:00:00.000000000",
          "2024-04-19T00:00:00.000000000",
          "2024-04-20T00:00:00.000000000",
          "2024-04-21T00:00:00.000000000",
          "2024-04-22T00:00:00.000000000",
          "2024-04-23T00:00:00.000000000",
          "2024-04-24T00:00:00.000000000",
          "2024-04-25T00:00:00.000000000",
          "2024-04-26T00:00:00.000000000",
          "2024-04-27T00:00:00.000000000",
          "2024-04-28T00:00:00.000000000",
          "2024-04-29T00:00:00.000000000",
          "2024-04-30T00:00:00.000000000",
          "2024-05-01T00:00:00.000000000",
          "2024-05-02T00:00:00.000000000",
          "2024-05-03T00:00:00.000000000",
          "2024-05-04T00:00:00.000000000",
          "2024-05-05T00:00:00.000000000",
          "2024-05-06T00:00:00.000000000",
          "2024-05-07T00:00:00.000000000",
          "2024-05-08T00:00:00.000000000",
          "2024-05-09T00:00:00.000000000",
          "2024-05-10T00:00:00.000000000",
          "2024-05-11T00:00:00.000000000",
          "2024-05-12T00:00:00.000000000",
          "2024-05-13T00:00:00.000000000",
          "2024-05-14T00:00:00.000000000",
          "2024-05-15T00:00:00.000000000",
          "2024-05-16T00:00:00.000000000",
          "2024-05-17T00:00:00.000000000",
          "2024-05-18T00:00:00.000000000",
          "2024-05-19T00:00:00.000000000",
          "2024-05-20T00:00:00.000000000",
          "2024-05-21T00:00:00.000000000",
          "2024-05-22T00:00:00.000000000",
          "2024-05-23T00:00:00.000000000",
          "2024-05-24T00:00:00.000000000",
          "2024-05-25T00:00:00.000000000",
          "2024-05-26T00:00:00.000000000",
          "2024-05-27T00:00:00.000000000",
          "2024-05-28T00:00:00.000000000",
          "2024-05-29T00:00:00.000000000",
          "2024-05-30T00:00:00.000000000",
          "2024-05-31T00:00:00.000000000",
          "2024-06-01T00:00:00.000000000",
          "2024-06-02T00:00:00.000000000",
          "2024-06-03T00:00:00.000000000",
          "2024-06-04T00:00:00.000000000",
          "2024-06-05T00:00:00.000000000",
          "2024-06-06T00:00:00.000000000",
          "2024-06-07T00:00:00.000000000",
          "2024-06-08T00:00:00.000000000",
          "2024-06-09T00:00:00.000000000",
          "2024-06-10T00:00:00.000000000",
          "2024-06-11T00:00:00.000000000",
          "2024-06-12T00:00:00.000000000",
          "2024-06-13T00:00:00.000000000",
          "2024-06-14T00:00:00.000000000",
          "2024-06-15T00:00:00.000000000",
          "2024-06-16T00:00:00.000000000",
          "2024-06-17T00:00:00.000000000",
          "2024-06-18T00:00:00.000000000",
          "2024-06-19T00:00:00.000000000",
          "2024-06-20T00:00:00.000000000",
          "2024-06-21T00:00:00.000000000",
          "2024-06-22T00:00:00.000000000",
          "2024-06-23T00:00:00.000000000",
          "2024-06-24T00:00:00.000000000",
          "2024-06-25T00:00:00.000000000",
          "2024-06-26T00:00:00.000000000",
          "2024-06-27T00:00:00.000000000",
          "2024-06-28T00:00:00.000000000",
          "2024-06-29T00:00:00.000000000",
          "2024-06-30T00:00:00.000000000",
          "2024-07-01T00:00:00.000000000",
          "2024-07-02T00:00:00.000000000",
          "2024-07-03T00:00:00.000000000",
          "2024-07-04T00:00:00.000000000",
          "2024-07-05T00:00:00.000000000",
          "2024-07-06T00:00:00.000000000",
          "2024-07-07T00:00:00.000000000",
          "2024-07-08T00:00:00.000000000",
          "2024-07-09T00:00:00.000000000",
          "2024-07-10T00:00:00.000000000",
          "2024-07-11T00:00:00.000000000",
          "2024-07-12T00:00:00.000000000",
          "2024-07-13T00:00:00.000000000",
          "2024-07-14T00:00:00.000000000",
          "2024-07-15T00:00:00.000000000",
          "2024-07-16T00:00:00.000000000",
          "2024-07-17T00:00:00.000000000",
          "2024-07-18T00:00:00.000000000",
          "2024-07-19T00:00:00.000000000",
          "2024-07-20T00:00:00.000000000",
          "2024-07-21T00:00:00.000000000",
          "2024-07-22T00:00:00.000000000",
          "2024-07-23T00:00:00.000000000",
          "2024-07-24T00:00:00.000000000",
          "2024-07-25T00:00:00.000000000",
          "2024-07-26T00:00:00.000000000",
          "2024-07-27T00:00:00.000000000",
          "2024-07-28T00:00:00.000000000",
          "2024-07-29T00:00:00.000000000",
          "2024-07-30T00:00:00.000000000",
          "2024-07-31T00:00:00.000000000",
          "2024-08-01T00:00:00.000000000",
          "2024-08-02T00:00:00.000000000",
          "2024-08-03T00:00:00.000000000",
          "2024-08-04T00:00:00.000000000",
          "2024-08-05T00:00:00.000000000",
          "2024-08-06T00:00:00.000000000",
          "2024-08-07T00:00:00.000000000",
          "2024-08-08T00:00:00.000000000",
          "2024-08-09T00:00:00.000000000",
          "2024-08-10T00:00:00.000000000",
          "2024-08-11T00:00:00.000000000",
          "2024-08-12T00:00:00.000000000",
          "2024-08-13T00:00:00.000000000",
          "2024-08-14T00:00:00.000000000",
          "2024-08-15T00:00:00.000000000",
          "2024-08-16T00:00:00.000000000",
          "2024-08-17T00:00:00.000000000",
          "2024-08-18T00:00:00.000000000",
          "2024-08-19T00:00:00.000000000",
          "2024-08-20T00:00:00.000000000",
          "2024-08-21T00:00:00.000000000",
          "2024-08-22T00:00:00.000000000",
          "2024-08-23T00:00:00.000000000",
          "2024-08-24T00:00:00.000000000",
          "2024-08-25T00:00:00.000000000",
          "2024-08-26T00:00:00.000000000",
          "2024-08-27T00:00:00.000000000",
          "2024-08-28T00:00:00.000000000",
          "2024-08-29T00:00:00.000000000",
          "2024-08-30T00:00:00.000000000",
          "2024-08-31T00:00:00.000000000",
          "2024-09-01T00:00:00.000000000",
          "2024-09-02T00:00:00.000000000",
          "2024-09-03T00:00:00.000000000",
          "2024-09-04T00:00:00.000000000",
          "2024-09-05T00:00:00.000000000",
          "2024-09-06T00:00:00.000000000",
          "2024-09-07T00:00:00.000000000",
          "2024-09-08T00:00:00.000000000",
          "2024-09-09T00:00:00.000000000",
          "2024-09-10T00:00:00.000000000",
          "2024-09-11T00:00:00.000000000",
          "2024-09-12T00:00:00.000000000",
          "2024-09-13T00:00:00.000000000",
          "2024-09-14T00:00:00.000000000",
          "2024-09-15T00:00:00.000000000",
          "2024-09-16T00:00:00.000000000",
          "2024-09-17T00:00:00.000000000",
          "2024-09-18T00:00:00.000000000",
          "2024-09-19T00:00:00.000000000",
          "2024-09-20T00:00:00.000000000",
          "2024-09-21T00:00:00.000000000",
          "2024-09-22T00:00:00.000000000",
          "2024-09-23T00:00:00.000000000",
          "2024-09-24T00:00:00.000000000",
          "2024-09-25T00:00:00.000000000",
          "2024-09-26T00:00:00.000000000",
          "2024-09-27T00:00:00.000000000",
          "2024-09-28T00:00:00.000000000",
          "2024-09-29T00:00:00.000000000",
          "2024-09-30T00:00:00.000000000",
          "2024-10-01T00:00:00.000000000",
          "2024-10-02T00:00:00.000000000",
          "2024-10-03T00:00:00.000000000",
          "2024-10-04T00:00:00.000000000",
          "2024-10-05T00:00:00.000000000",
          "2024-10-06T00:00:00.000000000",
          "2024-10-07T00:00:00.000000000",
          "2024-10-08T00:00:00.000000000",
          "2024-10-09T00:00:00.000000000",
          "2024-10-10T00:00:00.000000000",
          "2024-10-11T00:00:00.000000000",
          "2024-10-12T00:00:00.000000000",
          "2024-10-13T00:00:00.000000000",
          "2024-10-14T00:00:00.000000000",
          "2024-10-15T00:00:00.000000000",
          "2024-10-16T00:00:00.000000000",
          "2024-10-17T00:00:00.000000000",
          "2024-10-18T00:00:00.000000000",
          "2024-10-19T00:00:00.000000000",
          "2024-10-20T00:00:00.000000000",
          "2024-10-21T00:00:00.000000000",
          "2024-10-22T00:00:00.000000000",
          "2024-10-23T00:00:00.000000000",
          "2024-10-24T00:00:00.000000000",
          "2024-10-25T00:00:00.000000000",
          "2024-10-26T00:00:00.000000000",
          "2024-10-27T00:00:00.000000000",
          "2024-10-28T00:00:00.000000000",
          "2024-10-29T00:00:00.000000000",
          "2024-10-30T00:00:00.000000000",
          "2024-10-31T00:00:00.000000000",
          "2024-11-01T00:00:00.000000000",
          "2024-11-02T00:00:00.000000000",
          "2024-11-03T00:00:00.000000000",
          "2024-11-04T00:00:00.000000000",
          "2024-11-05T00:00:00.000000000",
          "2024-11-06T00:00:00.000000000",
          "2024-11-07T00:00:00.000000000",
          "2024-11-08T00:00:00.000000000",
          "2024-11-09T00:00:00.000000000",
          "2024-11-10T00:00:00.000000000",
          "2024-11-11T00:00:00.000000000",
          "2024-11-12T00:00:00.000000000",
          "2024-11-13T00:00:00.000000000",
          "2024-11-14T00:00:00.000000000",
          "2024-11-15T00:00:00.000000000",
          "2024-11-16T00:00:00.000000000",
          "2024-11-17T00:00:00.000000000",
          "2024-11-18T00:00:00.000000000",
          "2024-11-19T00:00:00.000000000",
          "2024-11-20T00:00:00.000000000",
          "2024-11-21T00:00:00.000000000",
          "2024-11-22T00:00:00.000000000",
          "2024-11-23T00:00:00.000000000",
          "2024-11-24T00:00:00.000000000",
          "2024-11-25T00:00:00.000000000",
          "2024-11-26T00:00:00.000000000",
          "2024-11-27T00:00:00.000000000",
          "2024-11-28T00:00:00.000000000",
          "2024-11-29T00:00:00.000000000",
          "2024-11-30T00:00:00.000000000",
          "2024-12-01T00:00:00.000000000",
          "2024-12-02T00:00:00.000000000",
          "2024-12-03T00:00:00.000000000",
          "2024-12-04T00:00:00.000000000",
          "2024-12-05T00:00:00.000000000",
          "2024-12-06T00:00:00.000000000",
          "2024-12-07T00:00:00.000000000",
          "2024-12-08T00:00:00.000000000",
          "2024-12-09T00:00:00.000000000",
          "2024-12-10T00:00:00.000000000",
          "2024-12-11T00:00:00.000000000",
          "2024-12-12T00:00:00.000000000",
          "2024-12-13T00:00:00.000000000",
          "2024-12-14T00:00:00.000000000",
          "2024-12-15T00:00:00.000000000",
          "2024-12-16T00:00:00.000000000",
          "2024-12-17T00:00:00.000000000",
          "2024-12-18T00:00:00.000000000",
          "2024-12-19T00:00:00.000000000",
          "2024-12-20T00:00:00.000000000",
          "2024-12-21T00:00:00.000000000",
          "2024-12-22T00:00:00.000000000",
          "2024-12-23T00:00:00.000000000",
          "2024-12-24T00:00:00.000000000",
          "2024-12-25T00:00:00.000000000",
          "2024-12-26T00:00:00.000000000",
          "2024-12-27T00:00:00.000000000",
          "2024-12-28T00:00:00.000000000",
          "2024-12-29T00:00:00.000000000",
          "2024-12-30T00:00:00.000000000",
          "2024-12-31T00:00:00.000000000"
         ],
         "xaxis": "x",
         "y": {
          "bdata": "9P3UeEUI0kBMN4lB6IPIQMuhRbaX4tlAlkOLbFPr0UDXo3A9EirUQOBPjZfKmtZAN4lBYFWW0EDiehSud4XKQCPb+X7qW9NAAAAAAIyy1UAIrBxabGbYQOomMQgMx9JA1XjpJhW90UA4iUFgFenWQOj7qfGWF9VAwcqhRVJQ1UBCYOXQ4trKQMl2vp9midVAsHJokTVu0UAtsp3vt13LQDMzMzMDStRAZ2ZmZp5N1kADK4cWeWjNQHWTGASaZN9A+n5qvJSn2EC0yHa+/0HeQHsUrkcZ8dNANl66SZwczUAMAiuH8i3WQL6fGi85itJAxCCwchifykAEVg4tit7QQGZmZmb+Vs9AppvEIMSM0kCq8dJN9nfYQC2yne/7TNVAnMQgsDq81EArhxbZbmLMQLXIdr7D7NBAWmQ73wsI2kDXo3A9slrQQFk5tMhWzMNAKVyPwmXh2EBCYOXQnrnTQJZDi2xbHtBA5/up8R5v0UCJQWDl7NLbQN4kBoH989pAK4cW2S7bx0COl24Sg5nQQK5H4Xocn9BAhxbZzh9h0UA6tMh2un7QQIcW2c43DMhAXrpJDJI4y0Av3SQG0dPXQGQ7309l09BAfT81XkrRxkDfT42X5nLTQHNoke1ACtBATDeJQbTQ2kC28/3UsAXHQMdLN4mh28FA7nw/NW74xEAzMzMz23nSQDiJQWC9A9VAGi/dJD7OxUBGtvP9hDLXQEFg5dCSHr5AdZMYBCYZ2EDP91PjRcjSQO58PzX+O9ZAsHJokWUG1EBEi2znT1jWQCUGgZW7EthAnMQgsH4Z1UCuR+F6zETaQPLSTWKIDtdAlkOLbCNu0EAK16NwkXjaQOxRuB4ZpdFA3Pl+apT/ykAVrkfhJrrTQKabxCB4u9BAlUOLbEeOx0DByqFFDpfKQA4tsp0b6NJAvHSTGJxNzUDy0k1i4CPRQFCNl27iGNZAQDVeuh0o00Aj2/l+HrjYQClcj8LFmNBAYOXQInOm0kBU46Wb4JLUQNejcD34FeBAd76fGr/f10CamZmZ7T7XQOomMQjgbdJAXrpJDPJJ00BzaJHtTFDVQKRwPQpXo9RA001iENTA0EBxPQrXXz/bQFTjpZsUBMdAd76fGrvc2UA1XrpJnD/XQC/dJAathdFAjZduEqvT0EDFILByCOXIQObQItuhVdxAqMZLN6lU1EBGtvP9yJnfQKabxCCAXtpAaJHtfPFH4UAhsHJo6aXQQMl2vp/azM9Ax0s3iYH51ECYbhKD2CnaQKjGSzf9tdVAQDVeusm7y0CNl24Sn6XQQL+fGi9dvdFAi2zn+x0D0kDFILByNNPRQB1aZDtLJ9RAc2iR7WDe0kDTTWIQzNLbQLOd76ca49dA5KWbxOCkzUB9PzVeRh7QQA4tsp3z2NdAbef7qfUz2kC28/3UsCnRQMuhRbazic5AXrpJDK7y0ECMbOf7xYXYQNNNYhC8i9pAcT0K1/fy1kDufD81glXRQJzEILAyPM1AYxBYOfSzzECMbOf77bzYQN0kBoEVgNFAEVg5tLBO0kCUGARWctbRQIcW2c7zXdNASOF6FH5iwkBU46WbdJbJQO58PzWqMNFAmpmZmQny00BrvHSTiLrUQC2yne9P2tpAku18Pzmz1EAv3SQG6ZvMQDzfT41XeNBAqvHSTQqxzkCgGi/dlKjTQDq0yHYKL91AH4XrUURH0UCQwvUobIPKQDEIrBxmN9lAvHSTGNDi0ECYbhKDJPHUQFpkO9/vDtRAZTvfT11s0UAbL90kgq3UQA4tsp0PZ9VA+35qvHRAz0DC9Shc4wLQQNNNYhAg+9FAUrgehXOt20BvEoPAHm7TQJhuEoNUl9NAAiuHFjVD1UAnMQisIK3UQF66SQze8dZAppvEIExD00BuEoPAcj/FQIKVQ4tse9BARIts5/MY2UCmm8QgQJTWQBsv3SQOGMtA/Knx0oUG1EBU46WbfGnTQLgehevRRNBACtejcDW/2kBnZmZm/mjXQEA1XrqpYcNACtejcIGM2UDJdr6fxkrTQAaBlUODPs1Aa7x0kzCR00B1kxgE5hjdQKJFtvOVLMxAEoPAysm7wUATg8DKEcLWQBFYObRoY9hAhetRuC4Ou0BxPQrXCyPRQEw3iUGsLNJAukkMAqPwzEAnMQisHG3YQESLbOfrm95AEVg5tGT02UATg8DKuejCQD4K16O4HddAHVpkO9Pw0EAtsp3v01PdQCuHFtnCJtJA8KfGSxc0y0CgGi/dZObDQDeJQWCFgc1ABFYOLfLb0kCwcmiRnbTWQLkehevBEsRAd76fGk/Q1ECwcmiRPdrQQGIQWDkABtNATmIQWCkq1UC/nxovTZvKQBfZzvd/4dpAgZVDi4Tw1UDkpZvE2EfcQG8Sg8BKC9ZA001iEODL00CamZmZGdfIQHWTGATW0ctAL90kBm2h2kAIrBxahKzXQG3n+6m5EdxA6Pup8eLt3kDdJAaBpf2+QGdmZmaeuc1AtMh2vic41kCOl24S85vVQOj7qfFY1OBA16NwPcqwyUCBlUOLjE3UQJDC9Siso7tA2/l+alhn0EA+CtejBFLZQDEIrBz6W8hABFYOLfpJykAbL90kNjDPQF66SQziY9RAmpmZmQt+4EAnMQisBKvIQNEi2/k+aNFAUI2XbjpXzUDRItv5FurgQO58PzVGssdAVOOlm7gR2EAnMQisMKfVQHNoke1Md9JAlkOLbC8O10Av3SQG4YDTQI2XbhJ7sc9ATmIQWJkW2UDdJAaBbbLOQLtJDALDwcVAGy/dJBrL00Av3SQGcTzVQH9qvHTD+M9ABFYOLf6Z00BYObTIVkLKQLkehesNb9VAGQRWDuWjzUBh5dAiU7nWQKRwPQqfJtFA/tR46RYkzkCgGi/dmDHRQMuhRbaDasNACtejcD3E0UDByqFF9iPOQDMzMzPLCtZAOIlBYPWgykDufD81jkfXQIcW2c7j+9ZAH4XrUUAH00B/arx0u83dQCcxCKxEkdBAXI/C9ZCO1ECHFtnOf+fYQJQYBFZez81AEVg5tFAF10D6fmq8HCfJQPCnxktTttJAarx0kxCCzkBnZmZmbtHRQEw3iUF4SdRAlkOLbAvv1ECBlUOLJPzPQN9PjZe+cslAPgrXo5Tc00BrvHSTuOfWQFYOLbL9kctAvXSTGDRQ0kC/nxov2y3gQClcj8LNe9dA0SLb+XJS1EDm0CLbUU/MQDvfT40/8dBA8tJNYgjO1ECYbhKDIKTMQGdmZmYqGNFAL90kBmnT00Bpke18t5TXQMUgsHI4hMZACtejcFXk00CwcmiR9TvKQBFYObQIgtNAHVpkO5s410AzMzMzQ0TUQDMzMzNTn9tA001iEHAF1kCS7Xw/HSbUQB1aZDuXZ9dAYOXQIs9B2UDHSzeJaUHMQJ7vp8bvI9VAN4lBYGVOx0AnMQisgG/XQAAAAACo5tJArBxaZPNn00B7FK5H4X7MQF66SQxuotBAZTvfT+UZ1kBrvHST8C7SQA0CK4fG5dJAnu+nxme50UAX2c73907RQC/dJAYxltBApHA9Cqfq2ECDwMqhBZLUQK5H4XoMR85Aa7x0k5xz20DufD81BnLGQB+F61GQidRA/tR46WZQx0CBlUOLhP/YQPp+arwo5dVA8KfGS5Mb1ECPwvUoSFPTQG8Sg8DSONJApHA9Covj10AW2c73K3fKQIPAyqHFr9NAa7x0kwC0y0B9PzVeapfTQLtJDALTqdRAsXJokdGS1kBQjZduNs/eQBSuR+GCidNAfT81XpI32UBcj8L1ECPWQBfZzveX/dNAke18P1Gj0EDqJjEIRDfIQEjhehT2HcxAyXa+n5pR2kBZObTIFkHYQM/3U+PB2NVAEVg5tDCx1UAv3SQGednVQOxRuB7Fm89A9ihcj+LezUDdJAaBbc/MQN0kBoF57NtAVOOlm5hK0EBSuB6F36PRQC2yne9LWthA001iELiRzUATg8DKWdfYQMUgsHJQdMlADQIrh7ZX1kAzMzMzo3TDQFTjpZscp8BAzczMzOz8yEBmZmZmXuzFQOj7qfGyF9FARIts55svzUAOLbKdDy7HQPCnxkv3+c1A9P3UeDHY1kCOl24Sa7DIQBODwMoRx9NAQDVeutHx2UDy0k1icKDLQDeJQWAJzdJA+n5qvIAJ0UAdWmQ7b3bUQKrx0k1SWslAPgrXo1zU1EBANV661fzaQLKd76cCXNJALbKd7+s31UBiEFg51AzRQLByaJHVg9NAfT81XlgF4ECUGARWNtvGQA0CK4e+X89AFa5H4apg2EBcj8L1GIjMQLXIdr5TMd1AYhBYOcTIx0DP91PjFeDGQBsv3SRujtFASgwCK58n1kAlBoGV26nJQLkehevtw9JARrbz/bTI2UCNl24Sj3/VQLtJDAL7oOBAxSCwcmg2vEDm0CLb2azXQJqZmZmxptZAZmZmZrY01ECBlUOLvIHMQKRwPQoXostACtejcAH11kCF61G4jnPMQJLtfD9BgtBAmpmZmQVC1kBlO99PLcvZQMl2vp9ShctA6iYxCAQY1kCe76fGmznRQH9qvHQbotJAEVg5tPDG30BMN4lBeILKQP7UeOnO7sZArkfhetiJ00AGgZVDY6LKQF+6SQwSddFACtejcM2bykBEi2zn68jNQEA1Xro5H81AdZMYBGbcyEATg8DKdYPQQMUgsHKIstZAXI/C9Sgm1ECamZmZgezXQEjhehS+qdhApHA9CpM+1ECe76fGd7ThQLkehesBiNFAzczMzFSF2EDn+6nxCk/GQGZmZma2KNVAKVyPwr2J0UCq8dJNjnXRQLByaJFtyNBAcT0K13/g1UDHSzeJWYvQQOOlm8Rw2NFAYhBYORCE0ECmm8QghNrWQCPb+X6SC9RAvXSTGGgA2UBU46WbtJfNQHWTGAROrsxAX7pJDKpg30AfhetRQLfPQH9qvHSv3dNAVg4tsqUE3EDNzMzMiBbfQClcj8K9UdFA001iEAQh20DdJAaBFVrOQIPAyqGF18RAc2iR7VSy3UBSuB6F1y7UQJqZmZmp0NNAVg4tso1O3UCPwvUolAjSQHnpJjF82tZAhxbZzudQ0kA4iUFg/bLKQPhT46Vv7NZAEVg5tPRF2EAbL90kNsvUQOj7qfHajtVAGy/dJK5izkAK16NwMTTTQNEi2/kCrdJAg8DKoRmT10AlBoGVQw3SQAAAAABQKNZAhetRuF480EDTTWIQCOjHQM/3U+NJCNVADy2ynSsd2kBANV66CUPPQOomMQj8IdJAUrgehYtQy0BOYhBY2XDVQM/3U+N5ydxABFYOLb6J1EBzaJHtdDrIQJLtfD+1qdxARIts51uO20D0/dR4kUjBQKJFtvPhPtBAWDm0yEJI2EAv3SQGGajQQGdmZmYejd5APgrXo7hKyEATg8DKTQDTQI2XbhLzw85AjGzn+62n2ECoxks3vRvcQEa28/3kSd9A2c73UyPMx0CDwMqhWbjRQK5H4XpgeNJALbKd738O0EBrvHSTuKjWQF66SQzCkdhAHVpkO2PD00D2KFyPEqTOQJhuEoMAAdBAZmZmZoIW1UARWDm0hKTYQH0/NV7qntZAg8DKocUK0kBaZDvf143OQPhT46U7xM9AgZVDiyRgz0C7SQwCWxfOQAisHFr4xtZA001iEAyc1ECsHFpkb/nWQJMYBFY2YsJA/Knx0mmX1kB/arx0I/PRQHe+nxoPTtFA+FPjpRmi4EDufD81uk/YQD4K16MQxMpAAiuHFgXE00C+nxovYUnYQD81Xrq9y9NAjZduElso2ECvR+F6THfLQFYOLbIhaNFADy2ynSvj0ECYbhKDhEnfQGU7309t1MNAi2zn+03f1UBMN4lBpJzYQPp+arzfYvNAE4PAymqf9UBiEFg5o9LzQEoMAivYPfZATDeJQVH090ArhxbZqAP3QKJFtvPxvfNA7FG4Ht/t9kAEVg4tlGT4QDEIrByYb/hAEVg5tC4R9kBpke18BCTyQNV46SagWvdA16NwPSuT9ECcxCCwOerzQEa28/2SC/pA2/l+atth80CJQWDlT0z0QE5iEFg1RPZAy6FFtvT59UC4HoXrXY7zQOomMQgwYPRAaZHtfBJg9ECiRbbzJPPwQDzfT42M1fNA+n5qvI6O90CgGi/dxGHzQH0/NV4/MPFAd76fGkG99ED0/dR4cbn3QDeJQWBxsfRACKwcWlll9UAPLbKd07f4QGu8dJOcq/RA2/l+al1U8EBeukkMmJT1QPCnxkvD4fpAlkOLbKDq8kBYObTIUkryQNejcD0gK/FATmIQWHl7+ECMbOf7vbT6QFCNl24JA/VAEVg5tK3E80BOYhBY0Z74QI2XbhJ3B/NA5KWbxH3R9UDZzvdTsH31QAwCK4fM/vZAbef7qdo280DTTWIQcbf5QGu8dJMEoPlAEVg5tMwZ9EB7FK5HEEPyQHsUrkfR//FAYOXQIuGe9EBt5/upnGX4QFTjpZu5qPNA30+Nl0FD8kDo+6nxfVT0QCGwcmiV8vNAUrgehfLN8UAhsHJowKPzQGDl0CK+pfBASgwCKz1R9EAdWmQ7d3n2QMdLN4nXdPVAVg4tstdY8kBKDAIrrv/2QOxRuB4JU/BA7nw/Nasi90B9PzVefebzQNnO91OVHvNAc2iR7XZt8kBWDi2yzET7QGdmZmbi4fNA16NwPZR09UA2XrpJQgD3QPyp8dJoe/VAH4XrUVJu90CcxCCwHZjzQDVeuklc1PZA+FPjpZnl9kCYbhKDTIjxQN9PjZe3K/BAg8DKoVad80CF61G4Ihb1QGmR7XwJGfFAVOOlm5bA9ECYbhKD8wX2QKrx0k2btPVA1XjpJnYO+EBOYhBYdTP2QIcW2c40e/dAEVg5tEOX9kBCYOXQIP32QL10kxgrc/NAJzEIrGgk8UA+CtejQyz4QP7UeOmuUvdAHVpkO3YO/ECS7Xw/xXf4QDEIrByskfRAN4lBYNSt8UCIFtnOjnP3QKjGSzfqLvZAtMh2vmPV90CWQ4tsJ3nzQOomMQi9WvlAIbByaNcg9UC7SQwCbA74QFK4HoUcnvdA16NwPdhm8kDn+6nxEkvzQLKd76fHU/VAd76fGjIv9kC0yHa+cmj2QKrx0k3VxPNAUrgehdpB8kBI4XoUWhT1QHWTGARVkfRA/tR46d8V9UBCYOXQcD35QE5iEFj0ovdATmIQWImZ8kB1kxgEQjjwQMuhRbZPcPNA30+Nl3Vt9kD4U+OlOpX5QAisHFqzT/dAf2q8dCOk+UDsUbgex2z4QMHKoUVzsfRAcT0K13s5+UAhsHJoq8z3QLbz/dQRQfRAK4cW2d/e8EDdJAaB+NbyQGmR7Xxzu/dAGQRWDgt39kBYObTIjp/4QPT91Hj54/VAlBgEVnq/9kC5HoXrUfD3QDzfT40YaPVAmG4Sg7K1+EBKDAIrU5T2QP7UeOmBvfZATDeJQX/I9UDXo3A9HWD6QIGVQ4u0ae9AQDVeum5g8kCBlUOLRF/0QPCnxkvuifhAz/dT4xcs9EAMAiuHjiz0QBkEVg5LJfhAexSuRyYt90Av3SQGQ1f4QKRwPQr7c/dASgwCK+Tu9EAMAiuH5O70QFCNl27P6flA001iEH5A80CUGARW4132QARWDi1Hh/NA2/l+aoFN/UDHSzeJgqv2QK5H4Xrg2PhAgZVDi6Pd9kCHFtnOA3n2QMP1KFwkvvNAokW288u280BxPQrX3wH2QDzfT41LH/ZAd76fGnC89UCcxCCwMvf0QHnpJjEQJ/ZAgZVDi0DA8kDy0k1iD2/7QA==",
          "dtype": "f8"
         },
         "yaxis": "y"
        },
        {
         "name": "Revenue by Category",
         "type": "bar",
         "x": [
          "Beauty",
          "Books",
          "Clothing",
          "Electronics",
          "Home & Garden",
          "Sports"
         ],
         "xaxis": "x2",
         "y": {
          "bdata": "46WbpJaOK0Gq8dJ9zW4zQfCnxiu/E0FB9P3UP1x3ckH+1HgJLYA+QeF6FA5f3y5B",
          "dtype": "f8"
         },
         "yaxis": "y2"
        },
        {
         "name": "Customers by Channel",
         "type": "bar",
         "x": [
          "Email",
          "Organic",
          "Paid Search",
          "Referral",
          "Social Media"
         ],
         "xaxis": "x3",
         "y": {
          "bdata": "8QLXBQIF7gHQAw==",
          "dtype": "i2"
         },
         "yaxis": "y3"
        },
        {
         "name": "Avg Profit Margin %",
         "type": "bar",
         "x": [
          "Beauty",
          "Books",
          "Clothing",
          "Electronics",
          "Home & Garden",
          "Sports"
         ],
         "xaxis": "x4",
         "y": {
          "bdata": "RXVMKdUyR0Bv3OT4v1VGQK7KYiKLV0pAJe8itxNWRUBTajHpjkxEQOO1v03FjERA",
          "dtype": "f8"
         },
         "yaxis": "y4"
        }
       ],
       "layout": {
        "annotations": [
         {
          "font": {
           "size": 16
          },
          "showarrow": false,
          "text": "Daily Revenue Trend",
          "x": 0.225,
          "xanchor": "center",
          "xref": "paper",
          "y": 1,
          "yanchor": "bottom",
          "yref": "paper"
         },
         {
          "font": {
           "size": 16
          },
          "showarrow": false,
          "text": "Category Performance",
          "x": 0.775,
          "xanchor": "center",
          "xref": "paper",
          "y": 1,
          "yanchor": "bottom",
          "yref": "paper"
         },
         {
          "font": {
           "size": 16
          },
          "showarrow": false,
          "text": "Customer Acquisition by Channel",
          "x": 0.225,
          "xanchor": "center",
          "xref": "paper",
          "y": 0.375,
          "yanchor": "bottom",
          "yref": "paper"
         },
         {
          "font": {
           "size": 16
          },
          "showarrow": false,
          "text": "Profit Margin by Category",
          "x": 0.775,
          "xanchor": "center",
          "xref": "paper",
          "y": 0.375,
          "yanchor": "bottom",
          "yref": "paper"
         }
        ],
        "height": 800,
        "showlegend": false,
        "template": {
         "data": {
          "bar": [
           {
            "error_x": {
             "color": "#2a3f5f"
            },
            "error_y": {
             "color": "#2a3f5f"
            },
            "marker": {
             "line": {
              "color": "#E5ECF6",
              "width": 0.5
             },
             "pattern": {
              "fillmode": "overlay",
              "size": 10,
              "solidity": 0.2
             }
            },
            "type": "bar"
           }
          ],
          "barpolar": [
           {
            "marker": {
             "line": {
              "color": "#E5ECF6",
              "width": 0.5
             },
             "pattern": {
              "fillmode": "overlay",
              "size": 10,
              "solidity": 0.2
             }
            },
            "type": "barpolar"
           }
          ],
          "carpet": [
           {
            "aaxis": {
             "endlinecolor": "#2a3f5f",
             "gridcolor": "white",
             "linecolor": "white",
             "minorgridcolor": "white",
             "startlinecolor": "#2a3f5f"
            },
            "baxis": {
             "endlinecolor": "#2a3f5f",
             "gridcolor": "white",
             "linecolor": "white",
             "minorgridcolor": "white",
             "startlinecolor": "#2a3f5f"
            },
            "type": "carpet"
           }
          ],
          "choropleth": [
           {
            "colorbar": {
             "outlinewidth": 0,
             "ticks": ""
            },
            "type": "choropleth"
           }
          ],
          "contour": [
           {
            "colorbar": {
             "outlinewidth": 0,
             "ticks": ""
            },
            "colorscale": [
             [
              0,
              "#0d0887"
             ],
             [
              0.1111111111111111,
              "#46039f"
             ],
             [
              0.2222222222222222,
              "#7201a8"
             ],
             [
              0.3333333333333333,
              "#9c179e"
             ],
             [
              0.4444444444444444,
              "#bd3786"
             ],
             [
              0.5555555555555556,
              "#d8576b"
             ],
             [
              0.6666666666666666,
              "#ed7953"
             ],
             [
              0.7777777777777778,
              "#fb9f3a"
             ],
             [
              0.8888888888888888,
              "#fdca26"
             ],
             [
              1,
              "#f0f921"
             ]
            ],
            "type": "contour"
           }
          ],
          "contourcarpet": [
           {
            "colorbar": {
             "outlinewidth": 0,
             "ticks": ""
            },
            "type": "contourcarpet"
           }
          ],
          "heatmap": [
           {
            "colorbar": {
             "outlinewidth": 0,
             "ticks": ""
            },
            "colorscale": [
             [
              0,
              "#0d0887"
             ],
             [
              0.1111111111111111,
              "#46039f"
             ],
             [
              0.2222222222222222,
              "#7201a8"
             ],
             [
              0.3333333333333333,
              "#9c179e"
             ],
             [
              0.4444444444444444,
              "#bd3786"
             ],
             [
              0.5555555555555556,
              "#d8576b"
             ],
             [
              0.6666666666666666,
              "#ed7953"
             ],
             [
              0.7777777777777778,
              "#fb9f3a"
             ],
             [
              0.8888888888888888,
              "#fdca26"
             ],
             [
              1,
              "#f0f921"
             ]
            ],
            "type": "heatmap"
           }
          ],
          "histogram": [
           {
            "marker": {
             "pattern": {
              "fillmode": "overlay",
              "size": 10,
              "solidity": 0.2
             }
            },
            "type": "histogram"
           }
          ],
          "histogram2d": [
           {
            "colorbar": {
             "outlinewidth": 0,
             "ticks": ""
            },
            "colorscale": [
             [
              0,
              "#0d0887"
             ],
             [
              0.1111111111111111,
              "#46039f"
             ],
             [
              0.2222222222222222,
              "#7201a8"
             ],
             [
              0.3333333333333333,
              "#9c179e"
             ],
             [
              0.4444444444444444,
              "#bd3786"
             ],
             [
              0.5555555555555556,
              "#d8576b"
             ],
             [
              0.6666666666666666,
              "#ed7953"
             ],
             [
              0.7777777777777778,
              "#fb9f3a"
             ],
             [
              0.8888888888888888,
              "#fdca26"
             ],
             [
              1,
              "#f0f921"
             ]
            ],
            "type": "histogram2d"
           }
          ],
          "histogram2dcontour": [
           {
            "colorbar": {
             "outlinewidth": 0,
             "ticks": ""
            },
            "colorscale": [
             [
              0,
              "#0d0887"
             ],
             [
              0.1111111111111111,
              "#46039f"
             ],
             [
              0.2222222222222222,
              "#7201a8"
             ],
             [
              0.3333333333333333,
              "#9c179e"
             ],
             [
              0.4444444444444444,
              "#bd3786"
             ],
             [
              0.5555555555555556,
              "#d8576b"
             ],
             [
              0.6666666666666666,
              "#ed7953"
             ],
             [
              0.7777777777777778,
              "#fb9f3a"
             ],
             [
              0.8888888888888888,
              "#fdca26"
             ],
             [
              1,
              "#f0f921"
             ]
            ],
            "type": "histogram2dcontour"
           }
          ],
          "mesh3d": [
           {
            "colorbar": {
             "outlinewidth": 0,
             "ticks": ""
            },
            "type": "mesh3d"
           }
          ],
          "parcoords": [
           {
            "line": {
             "colorbar": {
              "outlinewidth": 0,
              "ticks": ""
             }
            },
            "type": "parcoords"
           }
          ],
          "pie": [
           {
            "automargin": true,
            "type": "pie"
           }
          ],
          "scatter": [
           {
            "fillpattern": {
             "fillmode": "overlay",
             "size": 10,
             "solidity": 0.2
            },
            "type": "scatter"
           }
          ],
          "scatter3d": [
           {
            "line": {
             "colorbar": {
              "outlinewidth": 0,
              "ticks": ""
             }
            },
            "marker": {
             "colorbar": {
              "outlinewidth": 0,
              "ticks": ""
             }
            },
            "type": "scatter3d"
           }
          ],
          "scattercarpet": [
           {
            "marker": {
             "colorbar": {
              "outlinewidth": 0,
              "ticks": ""
             }
            },
            "type": "scattercarpet"
           }
          ],
          "scattergeo": [
           {
            "marker": {
             "colorbar": {
              "outlinewidth": 0,
              "ticks": ""
             }
            },
            "type": "scattergeo"
           }
          ],
          "scattergl": [
           {
            "marker": {
             "colorbar": {
              "outlinewidth": 0,
              "ticks": ""
             }
            },
            "type": "scattergl"
           }
          ],
          "scattermap": [
           {
            "marker": {
             "colorbar": {
              "outlinewidth": 0,
              "ticks": ""
             }
            },
            "type": "scattermap"
           }
          ],
          "scattermapbox": [
           {
            "marker": {
             "colorbar": {
              "outlinewidth": 0,
              "ticks": ""
             }
            },
            "type": "scattermapbox"
           }
          ],
          "scatterpolar": [
           {
            "marker": {
             "colorbar": {
              "outlinewidth": 0,
              "ticks": ""
             }
            },
            "type": "scatterpolar"
           }
          ],
          "scatterpolargl": [
           {
            "marker": {
             "colorbar": {
              "outlinewidth": 0,
              "ticks": ""
             }
            },
            "type": "scatterpolargl"
           }
          ],
          "scatterternary": [
           {
            "marker": {
             "colorbar": {
              "outlinewidth": 0,
              "ticks": ""
             }
            },
            "type": "scatterternary"
           }
          ],
          "surface": [
           {
            "colorbar": {
             "outlinewidth": 0,
             "ticks": ""
            },
            "colorscale": [
             [
              0,
              "#0d0887"
             ],
             [
              0.1111111111111111,
              "#46039f"
             ],
             [
              0.2222222222222222,
              "#7201a8"
             ],
             [
              0.3333333333333333,
              "#9c179e"
             ],
             [
              0.4444444444444444,
              "#bd3786"
             ],
             [
              0.5555555555555556,
              "#d8576b"
             ],
             [
              0.6666666666666666,
              "#ed7953"
             ],
             [
              0.7777777777777778,
              "#fb9f3a"
             ],
             [
              0.8888888888888888,
              "#fdca26"
             ],
             [
              1,
              "#f0f921"
             ]
            ],
            "type": "surface"
           }
          ],
          "table": [
           {
            "cells": {
             "fill": {
              "color": "#EBF0F8"
             },
             "line": {
              "color": "white"
             }
            },
            "header": {
             "fill": {
              "color": "#C8D4E3"
             },
             "line": {
              "color": "white"
             }
            },
            "type": "table"
           }
          ]
         },
         "layout": {
          "annotationdefaults": {
           "arrowcolor": "#2a3f5f",
           "arrowhead": 0,
           "arrowwidth": 1
          },
          "autotypenumbers": "strict",
          "coloraxis": {
           "colorbar": {
            "outlinewidth": 0,
            "ticks": ""
           }
          },
          "colorscale": {
           "diverging": [
            [
             0,
             "#8e0152"
            ],
            [
             0.1,
             "#c51b7d"
            ],
            [
             0.2,
             "#de77ae"
            ],
            [
             0.3,
             "#f1b6da"
            ],
            [
             0.4,
             "#fde0ef"
            ],
            [
             0.5,
             "#f7f7f7"
            ],
            [
             0.6,
             "#e6f5d0"
            ],
            [
             0.7,
             "#b8e186"
            ],
            [
             0.8,
             "#7fbc41"
            ],
            [
             0.9,
             "#4d9221"
            ],
            [
             1,
             "#276419"
            ]
           ],
           "sequential": [
            [
             0,
             "#0d0887"
            ],
            [
             0.1111111111111111,
             "#46039f"
            ],
            [
             0.2222222222222222,
             "#7201a8"
            ],
            [
             0.3333333333333333,
             "#9c179e"
            ],
            [
             0.4444444444444444,
             "#bd3786"
            ],
            [
             0.5555555555555556,
             "#d8576b"
            ],
            [
             0.6666666666666666,
             "#ed7953"
            ],
            [
             0.7777777777777778,
             "#fb9f3a"
            ],
            [
             0.8888888888888888,
             "#fdca26"
            ],
            [
             1,
             "#f0f921"
            ]
           ],
           "sequentialminus": [
            [
             0,
             "#0d0887"
            ],
            [
             0.1111111111111111,
             "#46039f"
            ],
            [
             0.2222222222222222,
             "#7201a8"
            ],
            [
             0.3333333333333333,
             "#9c179e"
            ],
            [
             0.4444444444444444,
             "#bd3786"
            ],
            [
             0.5555555555555556,
             "#d8576b"
            ],
            [
             0.6666666666666666,
             "#ed7953"
            ],
            [
             0.7777777777777778,
             "#fb9f3a"
            ],
            [
             0.8888888888888888,
             "#fdca26"
            ],
            [
             1,
             "#f0f921"
            ]
           ]
          },
          "colorway": [
           "#636efa",
           "#EF553B",
           "#00cc96",
           "#ab63fa",
           "#FFA15A",
           "#19d3f3",
           "#FF6692",
           "#B6E880",
           "#FF97FF",
           "#FECB52"
          ],
          "font": {
           "color": "#2a3f5f"
          },
          "geo": {
           "bgcolor": "white",
           "lakecolor": "white",
           "landcolor": "#E5ECF6",
           "showlakes": true,
           "showland": true,
           "subunitcolor": "white"
          },
          "hoverlabel": {
           "align": "left"
          },
          "hovermode": "closest",
          "mapbox": {
           "style": "light"
          },
          "paper_bgcolor": "white",
          "plot_bgcolor": "#E5ECF6",
          "polar": {
           "angularaxis": {
            "gridcolor": "white",
            "linecolor": "white",
            "ticks": ""
           },
           "bgcolor": "#E5ECF6",
           "radialaxis": {
            "gridcolor": "white",
            "linecolor": "white",
            "ticks": ""
           }
          },
          "scene": {
           "xaxis": {
            "backgroundcolor": "#E5ECF6",
            "gridcolor": "white",
            "gridwidth": 2,
            "linecolor": "white",
            "showbackground": true,
            "ticks": "",
            "zerolinecolor": "white"
           },
           "yaxis": {
            "backgroundcolor": "#E5ECF6",
            "gridcolor": "white",
            "gridwidth": 2,
            "linecolor": "white",
            "showbackground": true,
            "ticks": "",
            "zerolinecolor": "white"
           },
           "zaxis": {
            "backgroundcolor": "#E5ECF6",
            "gridcolor": "white",
            "gridwidth": 2,
            "linecolor": "white",
            "showbackground": true,
            "ticks": "",
            "zerolinecolor": "white"
           }
          },
          "shapedefaults": {
           "line": {
            "color": "#2a3f5f"
           }
          },
          "ternary": {
           "aaxis": {
            "gridcolor": "white",
            "linecolor": "white",
            "ticks": ""
           },
           "baxis": {
            "gridcolor": "white",
            "linecolor": "white",
            "ticks": ""
           },
           "bgcolor": "#E5ECF6",
           "caxis": {
            "gridcolor": "white",
            "linecolor": "white",
            "ticks": ""
           }
          },
          "title": {
           "x": 0.05
          },
          "xaxis": {
           "automargin": true,
           "gridcolor": "white",
           "linecolor": "white",
           "ticks": "",
           "title": {
            "standoff": 15
           },
           "zerolinecolor": "white",
           "zerolinewidth": 2
          },
          "yaxis": {
           "automargin": true,
           "gridcolor": "white",
           "linecolor": "white",
           "ticks": "",
           "title": {
            "standoff": 15
           },
           "zerolinecolor": "white",
           "zerolinewidth": 2
          }
         }
        },
        "title": {
         "text": "E-commerce Performance Dashboard"
        },
        "xaxis": {
         "anchor": "y",
         "domain": [
          0,
          0.45
         ]
        },
        "xaxis2": {
         "anchor": "y2",
         "domain": [
          0.55,
          1
         ]
        },
        "xaxis3": {
         "anchor": "y3",
         "domain": [
          0,
          0.45
         ]
        },
        "xaxis4": {
         "anchor": "y4",
         "domain": [
          0.55,
          1
         ]
        },
        "yaxis": {
         "anchor": "x",
         "domain": [
          0.625,
          1
         ]
        },
        "yaxis2": {
         "anchor": "x2",
         "domain": [
          0.625,
          1
         ]
        },
        "yaxis3": {
         "anchor": "x3",
         "domain": [
          0,
          0.375
         ]
        },
        "yaxis4": {
         "anchor": "x4",
         "domain": [
          0,
          0.375
         ]
        }
       }
      },
      "image/png": "[encoded data removed]"
     },
     "metadata": {},
     "output_type": "display_data"
    }
   ],
   "source": [
    "# Set up the plotting parameters\n",
    "plt.rcParams['figure.figsize'] = (15, 10)\n",
    "\n",
    "# 1. Revenue Trend Over Time\n",
    "fig, axes = plt.subplots(2, 2, figsize=(20, 15))\n",
    "\n",
    "# Monthly Revenue Trend\n",
    "monthly_revenue = df.groupby(df['transaction_date'].dt.to_period('M'))['net_revenue'].sum()\n",
    "axes[0, 0].plot(monthly_revenue.index.astype(str), monthly_revenue.values, marker='o', linewidth=2, markersize=6)\n",
    "axes[0, 0].set_title('Monthly Revenue Trend', fontsize=14, fontweight='bold')\n",
    "axes[0, 0].set_xlabel('Month')\n",
    "axes[0, 0].set_ylabel('Revenue ($)')\n",
    "axes[0, 0].tick_params(axis='x', rotation=45)\n",
    "axes[0, 0].grid(True, alpha=0.3)\n",
    "\n",
    "# Category Performance\n",
    "category_revenue = df.groupby('category')['net_revenue'].sum().sort_values(ascending=True)\n",
    "axes[0, 1].barh(category_revenue.index, category_revenue.values)\n",
    "axes[0, 1].set_title('Revenue by Category', fontsize=14, fontweight='bold')\n",
    "axes[0, 1].set_xlabel('Revenue ($)')\n",
    "\n",
    "# Customer Segment Distribution\n",
    "segment_counts = df.groupby('customer_segment')['customer_id'].nunique()\n",
    "axes[1, 0].pie(segment_counts.values, labels=segment_counts.index, autopct='%1.1f%%', startangle=90)\n",
    "axes[1, 0].set_title('Customer Distribution by Segment', fontsize=14, fontweight='bold')\n",
    "\n",
    "# RFM Segments\n",
    "axes[1, 1].bar(rfm_summary.index, rfm_summary.values)\n",
    "axes[1, 1].set_title('RFM Customer Segments', fontsize=14, fontweight='bold')\n",
    "axes[1, 1].set_xlabel('Customer Segment')\n",
    "axes[1, 1].set_ylabel('Number of Customers')\n",
    "axes[1, 1].tick_params(axis='x', rotation=45)\n",
    "\n",
    "plt.tight_layout()\n",
    "plt.show()\n",
    "\n",
    "# 2. Advanced Visualizations with Plotly\n",
    "\n",
    "# Create interactive revenue dashboard\n",
    "fig_revenue = make_subplots(\n",
    "    rows=2, cols=2,\n",
    "    subplot_titles=('Daily Revenue Trend', 'Category Performance', 'Customer Acquisition by Channel', 'Profit Margin by Category'),\n",
    "    specs=[[{\"secondary_y\": False}, {\"secondary_y\": False}],\n",
    "           [{\"secondary_y\": False}, {\"secondary_y\": False}]]\n",
    ")\n",
    "\n",
    "# Daily revenue trend\n",
    "daily_revenue = df.groupby('transaction_date')['net_revenue'].sum().reset_index()\n",
    "fig_revenue.add_trace(\n",
    "    go.Scatter(x=daily_revenue['transaction_date'], y=daily_revenue['net_revenue'],\n",
    "               mode='lines', name='Daily Revenue'),\n",
    "    row=1, col=1\n",
    ")\n",
    "\n",
    "# Category performance\n",
    "category_data = df.groupby('category').agg({\n",
    "    'net_revenue': 'sum',\n",
    "    'profit': 'sum'\n",
    "}).reset_index()\n",
    "\n",
    "fig_revenue.add_trace(\n",
    "    go.Bar(x=category_data['category'], y=category_data['net_revenue'],\n",
    "           name='Revenue by Category'),\n",
    "    row=1, col=2\n",
    ")\n",
    "\n",
    "# Customer acquisition\n",
    "acquisition_data = df.groupby('acquisition_channel')['customer_id'].nunique().reset_index()\n",
    "fig_revenue.add_trace(\n",
    "    go.Bar(x=acquisition_data['acquisition_channel'], y=acquisition_data['customer_id'],\n",
    "           name='Customers by Channel'),\n",
    "    row=2, col=1\n",
    ")\n",
    "\n",
    "# Profit margin by category\n",
    "category_margin = df.groupby('category')['profit_margin'].mean().reset_index()\n",
    "fig_revenue.add_trace(\n",
    "    go.Bar(x=category_margin['category'], y=category_margin['profit_margin'],\n",
    "           name='Avg Profit Margin %'),\n",
    "    row=2, col=2\n",
    ")\n",
    "\n",
    "fig_revenue.update_layout(height=800, showlegend=False, title_text=\"E-commerce Performance Dashboard\")\n",
    "fig_revenue.show()"
   ]
  },
  {
   "cell_type": "markdown",
   "id": "3a70818e-bb8a-44e4-bc07-1f248ac44574",
   "metadata": {},
   "source": [
    "### 6. BUSINESS INSIGHTS & RECOMMENDATIONS"
   ]
  },
  {
   "cell_type": "code",
   "execution_count": 8,
   "id": "aabf2e56-3f41-429e-855e-3a0fed9a01fe",
   "metadata": {},
   "outputs": [
    {
     "name": "stdout",
     "output_type": "stream",
     "text": [
      "📈 KEY FINDINGS:\n",
      "1. Total Revenue: $26,788,663.71 with 42.4% profit margin\n",
      "2. Customer base: 5,000 customers with $5357.73 average CLV\n",
      "3. Top category: Electronics ($19,363,267.99 revenue)\n",
      "4. Average order frequency: 10.0 orders per customer\n",
      "\n",
      "💡 STRATEGIC RECOMMENDATIONS:\n",
      "1. REVENUE OPTIMIZATION:\n",
      "   • Focus marketing spend on Electronics category (highest revenue generator)\n",
      "   • Improve profit margins in Home & Garden (lowest margin: 36.3%)\n",
      "\n",
      "2. CUSTOMER RETENTION:\n",
      "   • Champions represent 11.9% of customer base - create VIP program\n",
      "   • 2.9% customers at risk - implement win-back campaigns\n",
      "   • Target 'Potential Loyalists' with personalized offers\n",
      "\n",
      "3. OPERATIONAL EFFICIENCY:\n",
      "   • Peak sales month: 2024-12 - prepare inventory accordingly\n",
      "   • Current growth rate: 3.2% MoM - maintain momentum\n",
      "   • Optimize acquisition channels - focus on high-value customer sources\n"
     ]
    }
   ],
   "source": [
    "# Key findings\n",
    "print(\"📈 KEY FINDINGS:\")\n",
    "print(f\"1. Total Revenue: ${total_revenue:,.2f} with {overall_profit_margin:.1f}% profit margin\")\n",
    "print(f\"2. Customer base: {total_customers:,} customers with ${avg_clv:.2f} average CLV\")\n",
    "print(f\"3. Top category: {top_categories.index[0]} (${top_categories.iloc[0]['total_revenue']:,.2f} revenue)\")\n",
    "print(f\"4. Average order frequency: {avg_purchase_frequency:.1f} orders per customer\")\n",
    "\n",
    "print(f\"\\n💡 STRATEGIC RECOMMENDATIONS:\")\n",
    "\n",
    "# Revenue optimization\n",
    "top_category = top_categories.index[0]\n",
    "lowest_margin_category = top_categories.sort_values('profit_margin').index[0]\n",
    "\n",
    "print(f\"1. REVENUE OPTIMIZATION:\")\n",
    "print(f\"   • Focus marketing spend on {top_category} category (highest revenue generator)\")\n",
    "print(f\"   • Improve profit margins in {lowest_margin_category} (lowest margin: {top_categories.loc[lowest_margin_category, 'profit_margin']:.1f}%)\")\n",
    "\n",
    "# Customer retention\n",
    "champions_pct = (rfm_summary.get('Champions', 0) / rfm_summary.sum()) * 100\n",
    "at_risk_pct = (rfm_summary.get('At Risk', 0) / rfm_summary.sum()) * 100\n",
    "\n",
    "print(f\"\\n2. CUSTOMER RETENTION:\")\n",
    "print(f\"   • Champions represent {champions_pct:.1f}% of customer base - create VIP program\")\n",
    "print(f\"   • {at_risk_pct:.1f}% customers at risk - implement win-back campaigns\")\n",
    "print(f\"   • Target 'Potential Loyalists' with personalized offers\")\n",
    "\n",
    "# Operational efficiency\n",
    "peak_month = monthly_metrics['monthly_revenue'].idxmax()\n",
    "growth_rate = monthly_metrics.loc[monthly_metrics.index[-1], 'revenue_growth']\n",
    "\n",
    "print(f\"\\n3. OPERATIONAL EFFICIENCY:\")\n",
    "print(f\"   • Peak sales month: {peak_month} - prepare inventory accordingly\")\n",
    "print(f\"   • Current growth rate: {growth_rate:.1f}% MoM - {('maintain momentum' if growth_rate > 0 else 'address declining trend')}\")\n",
    "print(f\"   • Optimize acquisition channels - focus on high-value customer sources\")"
   ]
  },
  {
   "cell_type": "markdown",
   "id": "2600e814-943b-497c-924a-6e75ad461f39",
   "metadata": {},
   "source": [
    "### 7. STATISTICAL SIGNIFICANCE TESTS"
   ]
  },
  {
   "cell_type": "code",
   "execution_count": 9,
   "id": "0f533dba-d18c-44a8-bb15-56a1f6e28aef",
   "metadata": {},
   "outputs": [
    {
     "name": "stdout",
     "output_type": "stream",
     "text": [
      "\n",
      "📊 STATISTICAL ANALYSIS:\n",
      "Premium vs Regular AOV t-test: p-value = 0.0000\n",
      "Result: Significant difference in AOV between segments\n",
      "\n",
      "Acquisition Channel Performance:\n",
      "                     net_revenue  customer_id\n",
      "acquisition_channel                          \n",
      "Social Media              549.18         9584\n",
      "Paid Search               535.80        12793\n",
      "Referral                  533.99         5086\n",
      "Email                     532.78         7450\n",
      "Organic                   529.32        15087\n",
      "\n",
      "✅ Analysis Complete!\n",
      "============================================================\n",
      "This comprehensive analysis covers all major e-commerce KPIs and provides\n",
      "actionable insights for business growth and optimization.\n"
     ]
    }
   ],
   "source": [
    "print(f\"\\n📊 STATISTICAL ANALYSIS:\")\n",
    "\n",
    "# Test if premium customers have significantly higher AOV\n",
    "premium_aov = df[df['customer_segment'] == 'Premium']['net_revenue']\n",
    "regular_aov = df[df['customer_segment'] == 'Regular']['net_revenue']\n",
    "\n",
    "t_stat, p_value = stats.ttest_ind(premium_aov, regular_aov)\n",
    "print(f\"Premium vs Regular AOV t-test: p-value = {p_value:.4f}\")\n",
    "print(f\"Result: {'Significant' if p_value < 0.05 else 'Not significant'} difference in AOV between segments\")\n",
    "\n",
    "# Conversion rate by acquisition channel\n",
    "channel_performance = df.groupby('acquisition_channel').agg({\n",
    "    'net_revenue': 'mean',\n",
    "    'customer_id': 'count'\n",
    "}).round(2)\n",
    "\n",
    "print(f\"\\nAcquisition Channel Performance:\")\n",
    "print(channel_performance.sort_values('net_revenue', ascending=False))\n",
    "\n",
    "print(\"\\n✅ Analysis Complete!\")\n",
    "print(\"=\" * 60)\n",
    "print(\"This comprehensive analysis covers all major e-commerce KPIs and provides\")\n",
    "print(\"actionable insights for business growth and optimization.\")"
   ]
  }
 ],
 "metadata": {
  "kernelspec": {
   "display_name": "Python 3 (ipykernel)",
   "language": "python",
   "name": "python3"
  },
  "language_info": {
   "codemirror_mode": {
    "name": "ipython",
    "version": 3
   },
   "file_extension": ".py",
   "mimetype": "text/x-python",
   "name": "python",
   "nbconvert_exporter": "python",
   "pygments_lexer": "ipython3",
   "version": "3.13.1"
  }
 },
 "nbformat": 4,
 "nbformat_minor": 5
}
